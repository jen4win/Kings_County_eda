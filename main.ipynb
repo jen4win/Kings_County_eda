{
 "cells": [
  {
   "attachments": {},
   "cell_type": "markdown",
   "id": "68ad4ff0-8a25-4e0a-8903-d461314bc9ec",
   "metadata": {},
   "source": [
    "### Exploratory Data Analysis Project on King County Houses\n",
    "\n",
    "**Identification of customer's needs/wishes**\n",
    "\n",
    "The stakeholder for this project is Jacob Philipps. \n",
    "He is a buyer with an **unlimited budget**. Therefore, no selection by price will be excluded.\n",
    "\n",
    "__He wishes:__\n",
    "- 4+ bathrooms --> exclusive bathroom as a fixed parameter \n",
    "- big lot (with the option to build a tennis court & a pool) --> minimal size: tennis court = 60*120 ft + pool\n",
    "- close to golf resort --> check maps\n",
    "- no waterfront  --> exclude houses with waterfront\n",
    "- optional: historic house --> yr_built < average --> historical cut-off in seattle?\n",
    "\n",
    "**HYPOTHESIS: Do we need a multi-storey house to include a tennis court & a pool in the lot?**\n",
    "\n",
    "1. Does the space for living (sqft_living) increase with more floors?\n",
    "2. Is the garden size of the lot increasing, if we have a house with several floors?\n",
    "3. Can we build a tennis court and a pool in the basement?\n",
    "4. Are there houses close to a golf yard?\n",
    "\n",
    "The goal is to recommend three houses."
   ]
  },
  {
   "cell_type": "code",
   "execution_count": 2,
   "id": "8311c3eb-544b-4a2b-a165-29ece806fafd",
   "metadata": {},
   "outputs": [
    {
     "data": {
      "text/html": [
       "<style>.jp-OutputArea-output {display:flex}</style>"
      ],
      "text/plain": [
       "<IPython.core.display.HTML object>"
      ]
     },
     "metadata": {},
     "output_type": "display_data"
    }
   ],
   "source": [
    "# horizontal scrolling if working with firefox\n",
    "from IPython.display import display, HTML\n",
    "display(HTML(\"<style>.jp-OutputArea-output {display:flex}</style>\"))"
   ]
  },
  {
   "cell_type": "markdown",
   "id": "ecbc61c8-ff18-4db0-a8ae-09f67247de26",
   "metadata": {},
   "source": [
    "**Load packages**"
   ]
  },
  {
   "cell_type": "code",
   "execution_count": 1,
   "id": "f543e9c8-fedf-4f70-93e0-fd19011ac50f",
   "metadata": {},
   "outputs": [],
   "source": [
    "# packages for eda\n",
    "import pandas as pd\n",
    "import numpy as np\n",
    "import missingno as mso\n",
    "\n",
    "#visualization\n",
    "import matplotlib.pyplot as plt\n",
    "import seaborn as sns\n",
    "import plotly.express as px\n",
    "\n",
    "# visualization settings\n",
    "from matplotlib.ticker import PercentFormatter\n",
    "plt.rcParams.update({ \"figure.figsize\" : (8, 5),\"axes.facecolor\" : \"white\", \"axes.edgecolor\":  \"black\"})\n",
    "plt.rcParams[\"figure.facecolor\"]= \"w\"\n",
    "pd.plotting.register_matplotlib_converters()\n",
    "pd.set_option('display.float_format', lambda x: '%.2f' % x)\n",
    "\n",
    "import warnings\n",
    "warnings.filterwarnings(\"ignore\")"
   ]
  },
  {
   "cell_type": "markdown",
   "id": "32f92f8d-0a1e-4adc-bb72-33e5013251e1",
   "metadata": {},
   "source": [
    "**First we need to fetch the data from the King Countys dataset from the SQL database**"
   ]
  },
  {
   "cell_type": "code",
   "execution_count": 3,
   "id": "5a9b7185-9103-4c5a-bc1f-31d35ffec820",
   "metadata": {},
   "outputs": [],
   "source": [
    "#from dotenv import load_dotenv\n",
    "#%run ./Fetching_from_SQL.ipynb"
   ]
  },
  {
   "cell_type": "code",
   "execution_count": 4,
   "id": "3edee7ac-3dc2-4e43-8bcb-500f52fea45d",
   "metadata": {},
   "outputs": [
    {
     "data": {
      "text/plain": [
       "Index(['date', 'price', 'house_id', 'id', 'id.1', 'bedrooms', 'bathrooms',\n",
       "       'sqft_living', 'sqft_lot', 'floors', 'waterfront', 'view', 'condition',\n",
       "       'grade', 'sqft_above', 'sqft_basement', 'yr_built', 'yr_renovated',\n",
       "       'zipcode', 'lat', 'long', 'sqft_living15', 'sqft_lot15'],\n",
       "      dtype='object')"
      ]
     },
     "execution_count": 4,
     "metadata": {},
     "output_type": "execute_result"
    }
   ],
   "source": [
    "# import data into a pandas df\n",
    "df_house = pd.read_csv('data/king_county_data.csv')\n",
    "df = df_house.copy()\n",
    "df.columns"
   ]
  },
  {
   "cell_type": "markdown",
   "id": "2ea446bd-1258-4efc-885b-5a6372eb5475",
   "metadata": {},
   "source": [
    "**Data Cleaning**\n",
    "- check for duplicates\n",
    "- check for missing values\n",
    "- check for reasonable values in each feature\n",
    "\n",
    "For better clarity, the notebook is called without showing the content by `%%capture`."
   ]
  },
  {
   "cell_type": "code",
   "execution_count": 5,
   "id": "b7976509-95e2-46a6-b4e5-1122bdd81af2",
   "metadata": {},
   "outputs": [],
   "source": [
    "%%capture\n",
    "%run Data_Cleaning.ipynb"
   ]
  },
  {
   "cell_type": "code",
   "execution_count": 6,
   "id": "5ff8887f-d705-4241-9861-4ba49e37d235",
   "metadata": {},
   "outputs": [
    {
     "data": {
      "text/html": [
       "<div>\n",
       "<style scoped>\n",
       "    .dataframe tbody tr th:only-of-type {\n",
       "        vertical-align: middle;\n",
       "    }\n",
       "\n",
       "    .dataframe tbody tr th {\n",
       "        vertical-align: top;\n",
       "    }\n",
       "\n",
       "    .dataframe thead th {\n",
       "        text-align: right;\n",
       "    }\n",
       "</style>\n",
       "<table border=\"1\" class=\"dataframe\">\n",
       "  <thead>\n",
       "    <tr style=\"text-align: right;\">\n",
       "      <th></th>\n",
       "      <th>date</th>\n",
       "      <th>price</th>\n",
       "      <th>house_id</th>\n",
       "      <th>id</th>\n",
       "      <th>bedrooms</th>\n",
       "      <th>bathrooms</th>\n",
       "      <th>sqft_living</th>\n",
       "      <th>sqft_lot</th>\n",
       "      <th>floors</th>\n",
       "      <th>waterfront</th>\n",
       "      <th>...</th>\n",
       "      <th>grade</th>\n",
       "      <th>sqft_above</th>\n",
       "      <th>sqft_basement</th>\n",
       "      <th>yr_built</th>\n",
       "      <th>yr_renovated</th>\n",
       "      <th>zipcode</th>\n",
       "      <th>lat</th>\n",
       "      <th>long</th>\n",
       "      <th>sqft_living15</th>\n",
       "      <th>sqft_lot15</th>\n",
       "    </tr>\n",
       "  </thead>\n",
       "  <tbody>\n",
       "    <tr>\n",
       "      <th>0</th>\n",
       "      <td>2014-10-13</td>\n",
       "      <td>221900.00</td>\n",
       "      <td>7129300520</td>\n",
       "      <td>1</td>\n",
       "      <td>3.00</td>\n",
       "      <td>1.00</td>\n",
       "      <td>1180.00</td>\n",
       "      <td>5650.00</td>\n",
       "      <td>1.00</td>\n",
       "      <td>NaN</td>\n",
       "      <td>...</td>\n",
       "      <td>7</td>\n",
       "      <td>1180.00</td>\n",
       "      <td>0.00</td>\n",
       "      <td>1955</td>\n",
       "      <td>0.00</td>\n",
       "      <td>98178</td>\n",
       "      <td>47.51</td>\n",
       "      <td>-122.26</td>\n",
       "      <td>1340.00</td>\n",
       "      <td>5650.00</td>\n",
       "    </tr>\n",
       "    <tr>\n",
       "      <th>1</th>\n",
       "      <td>2014-12-09</td>\n",
       "      <td>538000.00</td>\n",
       "      <td>6414100192</td>\n",
       "      <td>2</td>\n",
       "      <td>3.00</td>\n",
       "      <td>2.25</td>\n",
       "      <td>2570.00</td>\n",
       "      <td>7242.00</td>\n",
       "      <td>2.00</td>\n",
       "      <td>0.00</td>\n",
       "      <td>...</td>\n",
       "      <td>7</td>\n",
       "      <td>2170.00</td>\n",
       "      <td>400.00</td>\n",
       "      <td>1951</td>\n",
       "      <td>1991.00</td>\n",
       "      <td>98125</td>\n",
       "      <td>47.72</td>\n",
       "      <td>-122.32</td>\n",
       "      <td>1690.00</td>\n",
       "      <td>7639.00</td>\n",
       "    </tr>\n",
       "    <tr>\n",
       "      <th>2</th>\n",
       "      <td>2015-02-25</td>\n",
       "      <td>180000.00</td>\n",
       "      <td>5631500400</td>\n",
       "      <td>3</td>\n",
       "      <td>2.00</td>\n",
       "      <td>1.00</td>\n",
       "      <td>770.00</td>\n",
       "      <td>10000.00</td>\n",
       "      <td>1.00</td>\n",
       "      <td>0.00</td>\n",
       "      <td>...</td>\n",
       "      <td>6</td>\n",
       "      <td>770.00</td>\n",
       "      <td>0.00</td>\n",
       "      <td>1933</td>\n",
       "      <td>0.00</td>\n",
       "      <td>98028</td>\n",
       "      <td>47.74</td>\n",
       "      <td>-122.23</td>\n",
       "      <td>2720.00</td>\n",
       "      <td>8062.00</td>\n",
       "    </tr>\n",
       "    <tr>\n",
       "      <th>3</th>\n",
       "      <td>2014-12-09</td>\n",
       "      <td>604000.00</td>\n",
       "      <td>2487200875</td>\n",
       "      <td>4</td>\n",
       "      <td>4.00</td>\n",
       "      <td>3.00</td>\n",
       "      <td>1960.00</td>\n",
       "      <td>5000.00</td>\n",
       "      <td>1.00</td>\n",
       "      <td>0.00</td>\n",
       "      <td>...</td>\n",
       "      <td>7</td>\n",
       "      <td>1050.00</td>\n",
       "      <td>910.00</td>\n",
       "      <td>1965</td>\n",
       "      <td>0.00</td>\n",
       "      <td>98136</td>\n",
       "      <td>47.52</td>\n",
       "      <td>-122.39</td>\n",
       "      <td>1360.00</td>\n",
       "      <td>5000.00</td>\n",
       "    </tr>\n",
       "    <tr>\n",
       "      <th>4</th>\n",
       "      <td>2015-02-18</td>\n",
       "      <td>510000.00</td>\n",
       "      <td>1954400510</td>\n",
       "      <td>5</td>\n",
       "      <td>3.00</td>\n",
       "      <td>2.00</td>\n",
       "      <td>1680.00</td>\n",
       "      <td>8080.00</td>\n",
       "      <td>1.00</td>\n",
       "      <td>0.00</td>\n",
       "      <td>...</td>\n",
       "      <td>8</td>\n",
       "      <td>1680.00</td>\n",
       "      <td>0.00</td>\n",
       "      <td>1987</td>\n",
       "      <td>0.00</td>\n",
       "      <td>98074</td>\n",
       "      <td>47.62</td>\n",
       "      <td>-122.05</td>\n",
       "      <td>1800.00</td>\n",
       "      <td>7503.00</td>\n",
       "    </tr>\n",
       "  </tbody>\n",
       "</table>\n",
       "<p>5 rows × 22 columns</p>\n",
       "</div>"
      ],
      "text/plain": [
       "        date     price    house_id  id  bedrooms  bathrooms  sqft_living  \\\n",
       "0 2014-10-13 221900.00  7129300520   1      3.00       1.00      1180.00   \n",
       "1 2014-12-09 538000.00  6414100192   2      3.00       2.25      2570.00   \n",
       "2 2015-02-25 180000.00  5631500400   3      2.00       1.00       770.00   \n",
       "3 2014-12-09 604000.00  2487200875   4      4.00       3.00      1960.00   \n",
       "4 2015-02-18 510000.00  1954400510   5      3.00       2.00      1680.00   \n",
       "\n",
       "   sqft_lot  floors  waterfront  ...  grade  sqft_above  sqft_basement  \\\n",
       "0   5650.00    1.00         NaN  ...      7     1180.00           0.00   \n",
       "1   7242.00    2.00        0.00  ...      7     2170.00         400.00   \n",
       "2  10000.00    1.00        0.00  ...      6      770.00           0.00   \n",
       "3   5000.00    1.00        0.00  ...      7     1050.00         910.00   \n",
       "4   8080.00    1.00        0.00  ...      8     1680.00           0.00   \n",
       "\n",
       "   yr_built  yr_renovated  zipcode   lat    long  sqft_living15  sqft_lot15  \n",
       "0      1955          0.00    98178 47.51 -122.26        1340.00     5650.00  \n",
       "1      1951       1991.00    98125 47.72 -122.32        1690.00     7639.00  \n",
       "2      1933          0.00    98028 47.74 -122.23        2720.00     8062.00  \n",
       "3      1965          0.00    98136 47.52 -122.39        1360.00     5000.00  \n",
       "4      1987          0.00    98074 47.62 -122.05        1800.00     7503.00  \n",
       "\n",
       "[5 rows x 22 columns]"
      ]
     },
     "execution_count": 6,
     "metadata": {},
     "output_type": "execute_result"
    }
   ],
   "source": [
    "df.head()"
   ]
  },
  {
   "cell_type": "markdown",
   "id": "8dd60bce-6d69-46d0-945e-0b26be1899da",
   "metadata": {},
   "source": [
    "**Hypothesis  1:  Does the space for living (sqft_living) increase with more floors?**\n",
    "\n",
    "To check this, first we want to have a descriptive overview of the variable sqft_living"
   ]
  },
  {
   "cell_type": "code",
   "execution_count": 7,
   "id": "6ca135e8-2ef4-471b-9ad3-8584d4579a19",
   "metadata": {},
   "outputs": [
    {
     "data": {
      "text/plain": [
       "<Axes: ylabel='Frequency'>"
      ]
     },
     "execution_count": 7,
     "metadata": {},
     "output_type": "execute_result"
    },
    {
     "data": {
      "image/png": "[encoded data removed]",
      "text/plain": [
       "<Figure size 800x500 with 1 Axes>"
      ]
     },
     "metadata": {},
     "output_type": "display_data"
    }
   ],
   "source": [
    "# histogram of sqft_living\n",
    "df.sqft_living.plot(kind='hist')"
   ]
  },
  {
   "cell_type": "markdown",
   "id": "849223e6-e8b6-4d19-9aad-ec0e271ce2d2",
   "metadata": {},
   "source": [
    "It seems that the majority of houses provides a living area between 2000 and 3000 sqft. To have the exact numbers of the mean, the median and the mode, we analyze it further."
   ]
  },
  {
   "cell_type": "code",
   "execution_count": 8,
   "id": "9463c322-1793-49f8-b6b2-d10e8476c85a",
   "metadata": {},
   "outputs": [
    {
     "data": {
      "text/plain": [
       "count   21597.00\n",
       "mean     2080.32\n",
       "std       918.11\n",
       "min       370.00\n",
       "25%      1430.00\n",
       "50%      1910.00\n",
       "75%      2550.00\n",
       "max     13540.00\n",
       "Name: sqft_living, dtype: float64"
      ]
     },
     "execution_count": 8,
     "metadata": {},
     "output_type": "execute_result"
    }
   ],
   "source": [
    "df.sqft_living.describe()"
   ]
  },
  {
   "cell_type": "markdown",
   "id": "c78a77f1-d045-4237-a9b9-e012eb90237d",
   "metadata": {},
   "source": [
    "Visualization of the relationship of sqft_living and floors."
   ]
  },
  {
   "cell_type": "code",
   "execution_count": 34,
   "id": "2b9bee33-c0dc-45a2-9a9e-937cd942e0b2",
   "metadata": {},
   "outputs": [
    {
     "data": {
      "image/png": "[encoded data removed]",
      "text/plain": [
       "<Figure size 800x500 with 1 Axes>"
      ]
     },
     "metadata": {},
     "output_type": "display_data"
    }
   ],
   "source": [
    "sns.boxplot(x=\"floors\", y=\"sqft_living\",\n",
    "                linewidth=0,\n",
    "                data=df,showmeans=True).set(\n",
    "    title='Houses with 2.5 floors provide most living space',\n",
    "    xlabel='Number of floors',\n",
    "    ylabel='Living space in sqft')\n",
    "\n",
    "sns.despine(bottom=True, left=True) #remove the borders"
   ]
  },
  {
   "cell_type": "markdown",
   "id": "9445bf60-7060-48ac-8e84-69b0a934832e",
   "metadata": {},
   "source": [
    "The plot shows an increasing living space by floors at least up to 2,5 floors. Houses of 3 and 3.5 floors seem to provide less space. Also values for mean and confidence intervalls are included. Exact values can be seen if we print the table below."
   ]
  },
  {
   "cell_type": "code",
   "execution_count": 31,
   "id": "84ea5665",
   "metadata": {},
   "outputs": [
    {
     "data": {
      "text/plain": [
       "floors\n",
       "1.00   1732.62\n",
       "1.50   1907.88\n",
       "2.00   2571.41\n",
       "2.50   3145.43\n",
       "3.00   1789.42\n",
       "3.50   2440.00\n",
       "Name: sqft_living, dtype: float64"
      ]
     },
     "execution_count": 31,
     "metadata": {},
     "output_type": "execute_result"
    }
   ],
   "source": [
    "m=df.groupby('floors')['sqft_living'].mean() #Mean values \n",
    "m "
   ]
  },
  {
   "cell_type": "markdown",
   "id": "0e7438bc-d0c9-4e26-864c-eb97aa924107",
   "metadata": {},
   "source": [
    "Now let us switch the perspective and focus on the size of the lot, regarding the living area. Furthermore, take the wishes for the bathroom and waterfront into account, when looking for an adequate lot.\n",
    "\n",
    "**Hypothesis 2: Is the garden size of the lot increasing, if we have a house with several floors?**"
   ]
  },
  {
   "cell_type": "code",
   "execution_count": 73,
   "id": "a1341c95-db14-4a02-a531-99b1823d24fa",
   "metadata": {},
   "outputs": [
    {
     "name": "stdout",
     "output_type": "stream",
     "text": [
      "<class 'pandas.core.frame.DataFrame'>\n",
      "Index: 249 entries, 11741 to 12764\n",
      "Data columns (total 22 columns):\n",
      " #   Column         Non-Null Count  Dtype         \n",
      "---  ------         --------------  -----         \n",
      " 0   date           249 non-null    datetime64[ns]\n",
      " 1   price          249 non-null    float64       \n",
      " 2   house_id       249 non-null    int64         \n",
      " 3   id             249 non-null    int64         \n",
      " 4   bedrooms       249 non-null    float64       \n",
      " 5   bathrooms      249 non-null    float64       \n",
      " 6   sqft_living    249 non-null    float64       \n",
      " 7   sqft_lot       249 non-null    float64       \n",
      " 8   floors         249 non-null    float64       \n",
      " 9   waterfront     225 non-null    float64       \n",
      " 10  view           247 non-null    float64       \n",
      " 11  condition      249 non-null    int64         \n",
      " 12  grade          249 non-null    int64         \n",
      " 13  sqft_above     249 non-null    float64       \n",
      " 14  sqft_basement  243 non-null    float64       \n",
      " 15  yr_built       249 non-null    int64         \n",
      " 16  yr_renovated   249 non-null    float64       \n",
      " 17  zipcode        249 non-null    int64         \n",
      " 18  lat            249 non-null    float64       \n",
      " 19  long           249 non-null    float64       \n",
      " 20  sqft_living15  249 non-null    float64       \n",
      " 21  sqft_lot15     249 non-null    float64       \n",
      "dtypes: datetime64[ns](1), float64(15), int64(6)\n",
      "memory usage: 44.7 KB\n"
     ]
    }
   ],
   "source": [
    "# adapt df to philips wishes: no waterfront and 4+ bathrooms and save in a new dataframe \n",
    "#called df_4bath, sorted by bathrooms\n",
    "df_4bath=df.query('waterfront != 1 and bathrooms > 4').sort_values('bathrooms') \n",
    "\n",
    "# optional: save to csv.file\n",
    "# df_4bath.to_csv('data/df_4bath.csv',index=False)\n",
    "df_4bath.info()\n"
   ]
  },
  {
   "cell_type": "markdown",
   "id": "4900e3ad",
   "metadata": {},
   "source": [
    "First of all, 249 houses meet the requirements of 4+ bathrooms and no waterfront. But for 24 houses the value for the waterfront is not clear, as it is missing.\n",
    "To check the relationship between the size of the lot and the living space provided, the following plot is created. "
   ]
  },
  {
   "cell_type": "code",
   "execution_count": 10,
   "id": "77502406-db5d-45f8-92ee-4ccd75e8cdd0",
   "metadata": {},
   "outputs": [
    {
     "data": {
      "image/png": "[encoded data removed]",
      "text/plain": [
       "<Figure size 800x500 with 1 Axes>"
      ]
     },
     "metadata": {},
     "output_type": "display_data"
    }
   ],
   "source": [
    "# new plot with adapted data: plot sqft_lot vs sqft_living with different styles for floors and hue bathrooms\n",
    "b=sns.scatterplot(y=\"sqft_living\", x=\"sqft_lot\",\n",
    "                size=\"floors\", hue=\"bathrooms\",\n",
    "                palette=\"ch:r=0.89,d=-0.4\", # r for rotation of the hue wheel, d for intesity of the darkest colour, both between 0 and 1, 0.3_r = umgedreht (hellstes = höchstes)\n",
    "                linewidth=0,\n",
    "                legend='brief',# not every entry gets a marker in the legend, otherwise use full\n",
    "                data=df_4bath).set(title='Area of lot and living distinguished by floors and bathrooms', xlabel='Area of the lot in sqft', ylabel='Living area in sqft')\n",
    "plt.legend(bbox_to_anchor=(1.05, 1), loc=2, borderaxespad=0.) # move legend to right border\n",
    "sns.despine(left=True, bottom=True)"
   ]
  },
  {
   "cell_type": "markdown",
   "id": "cf022206-42f1-4d9f-bbea-23c753b0ade1",
   "metadata": {},
   "source": [
    "This plot shows that most of the houses which meet Philipps wishes of min 4 bathrooms and no waterfront, have a lot size smaller than 200.000 sqft. Additionally most of them seem to have between 4.25 and 6 bathrooms with 1.5 to 2.5 floors.\n",
    "\n",
    "Moreover, one house with an exceptional big lot is obvious, which will be excluded in the next plot for the relationship between size of the garden (=lot-sqft_floor) and the size of the lot. "
   ]
  },
  {
   "cell_type": "code",
   "execution_count": 38,
   "id": "a8bcf51c-e35a-4244-8873-5e3293f6c628",
   "metadata": {},
   "outputs": [
    {
     "data": {
      "text/html": [
       "<div>\n",
       "<style scoped>\n",
       "    .dataframe tbody tr th:only-of-type {\n",
       "        vertical-align: middle;\n",
       "    }\n",
       "\n",
       "    .dataframe tbody tr th {\n",
       "        vertical-align: top;\n",
       "    }\n",
       "\n",
       "    .dataframe thead th {\n",
       "        text-align: right;\n",
       "    }\n",
       "</style>\n",
       "<table border=\"1\" class=\"dataframe\">\n",
       "  <thead>\n",
       "    <tr style=\"text-align: right;\">\n",
       "      <th></th>\n",
       "      <th>date</th>\n",
       "      <th>price</th>\n",
       "      <th>house_id</th>\n",
       "      <th>id</th>\n",
       "      <th>bedrooms</th>\n",
       "      <th>bathrooms</th>\n",
       "      <th>sqft_living</th>\n",
       "      <th>sqft_lot</th>\n",
       "      <th>floors</th>\n",
       "      <th>waterfront</th>\n",
       "      <th>...</th>\n",
       "      <th>yr_built</th>\n",
       "      <th>yr_renovated</th>\n",
       "      <th>zipcode</th>\n",
       "      <th>lat</th>\n",
       "      <th>long</th>\n",
       "      <th>sqft_living15</th>\n",
       "      <th>sqft_lot15</th>\n",
       "      <th>sqft_floor</th>\n",
       "      <th>liv_lot</th>\n",
       "      <th>sqft_garden</th>\n",
       "    </tr>\n",
       "  </thead>\n",
       "  <tbody>\n",
       "    <tr>\n",
       "      <th>20436</th>\n",
       "      <td>2015-04-15</td>\n",
       "      <td>1600000.00</td>\n",
       "      <td>1125079111</td>\n",
       "      <td>20437</td>\n",
       "      <td>4.00</td>\n",
       "      <td>5.50</td>\n",
       "      <td>6530.00</td>\n",
       "      <td>871200.00</td>\n",
       "      <td>2.00</td>\n",
       "      <td>0.00</td>\n",
       "      <td>...</td>\n",
       "      <td>2008</td>\n",
       "      <td>0.00</td>\n",
       "      <td>98014</td>\n",
       "      <td>47.66</td>\n",
       "      <td>-121.88</td>\n",
       "      <td>1280.00</td>\n",
       "      <td>858132.00</td>\n",
       "      <td>3265.00</td>\n",
       "      <td>0.37</td>\n",
       "      <td>867935.00</td>\n",
       "    </tr>\n",
       "  </tbody>\n",
       "</table>\n",
       "<p>1 rows × 25 columns</p>\n",
       "</div>"
      ],
      "text/plain": [
       "            date      price    house_id     id  bedrooms  bathrooms  \\\n",
       "20436 2015-04-15 1600000.00  1125079111  20437      4.00       5.50   \n",
       "\n",
       "       sqft_living  sqft_lot  floors  waterfront  ...  yr_built  yr_renovated  \\\n",
       "20436      6530.00 871200.00    2.00        0.00  ...      2008          0.00   \n",
       "\n",
       "       zipcode   lat    long  sqft_living15  sqft_lot15  sqft_floor  liv_lot  \\\n",
       "20436    98014 47.66 -121.88        1280.00   858132.00     3265.00     0.37   \n",
       "\n",
       "       sqft_garden  \n",
       "20436    867935.00  \n",
       "\n",
       "[1 rows x 25 columns]"
      ]
     },
     "execution_count": 38,
     "metadata": {},
     "output_type": "execute_result"
    }
   ],
   "source": [
    "#outlier\n",
    "df_4bath.query('sqft_lot == 871200')"
   ]
  },
  {
   "cell_type": "code",
   "execution_count": 74,
   "id": "717bbcba-3426-46f7-a510-538ed268f952",
   "metadata": {},
   "outputs": [],
   "source": [
    "# create a new column to get the size per floor use sqft_above to exclude basement\n",
    "df_4bath.eval('sqft_floor = sqft_above/floors', inplace = True) #already included in df_4bath.csv\n",
    "# create a new column for the size of the garden\n",
    "df_4bath.eval('sqft_garden = sqft_lot - sqft_floor', inplace = True) # included in df_4bath.csv"
   ]
  },
  {
   "cell_type": "code",
   "execution_count": 41,
   "id": "f25da738-b745-4cbb-a45e-cd8899cfcc95",
   "metadata": {},
   "outputs": [
    {
     "data": {
      "image/png": "[encoded data removed]",
      "text/plain": [
       "<Figure size 800x500 with 1 Axes>"
      ]
     },
     "metadata": {},
     "output_type": "display_data"
    }
   ],
   "source": [
    "# plot garden size vs lot size hue = floors\n",
    "sns.scatterplot(y=\"sqft_garden\", x=\"sqft_lot\",\n",
    "                size=\"floors\", hue=\"floors\",\n",
    "                palette=\"ch:r=0.99,d=-0.1\",\n",
    "                linewidth=0,\n",
    "                data=df_4bath.query('sqft_lot < 871200')).set(\n",
    "                    title='Garden dependent from lot size, but unaffected from house or floors', \n",
    "                    xlabel='Area of the lot in sqft', \n",
    "                    ylabel='Area of the garden in sqft')\n",
    "\n",
    "plt.legend(bbox_to_anchor=(0.9, 0.5), loc=2, borderaxespad=0.) \n",
    "sns.despine(left=True, bottom=True)"
   ]
  },
  {
   "cell_type": "markdown",
   "id": "4fee804a-e1db-44e2-ac02-18236142e4c5",
   "metadata": {},
   "source": [
    "The area of the lot and the garden seems to be very strong correlated, as the size for the house (sqft_floor) is too small to change the relationship. So independently of the number of floors, the garden increases with increasing size of the lot."
   ]
  },
  {
   "cell_type": "markdown",
   "id": "5655a35d-12fb-48f8-96b2-948a84716e41",
   "metadata": {},
   "source": [
    "**Hypothesis 3: Is the size of basement (sqft_basement) big enough for building a tennis court or a pool in there?**\n",
    "Size of a tennis court 9100 sqft (130*70 ft), minimal size of a tennis court 7100 ft (120*60 ft)\n",
    "Size of a luxury pool to swim and dive 640sqft (40*16 ft)\n",
    "\n",
    "So lets check the size of the floors and the basement!"
   ]
  },
  {
   "cell_type": "code",
   "execution_count": 48,
   "id": "ce6696be-2e99-403f-a67c-4c87f6087cdf",
   "metadata": {},
   "outputs": [
    {
     "name": "stdout",
     "output_type": "stream",
     "text": [
      "Empty DataFrame\n",
      "Columns: [date, price, house_id, id, bedrooms, bathrooms, sqft_living, sqft_lot, floors, waterfront, view, condition, grade, sqft_above, sqft_basement, yr_built, yr_renovated, zipcode, lat, long, sqft_living15, sqft_lot15, sqft_floor, liv_lot, sqft_garden]\n",
      "Index: []\n",
      "\n",
      "[0 rows x 25 columns] Empty DataFrame\n",
      "Columns: [date, price, house_id, id, bedrooms, bathrooms, sqft_living, sqft_lot, floors, waterfront, view, condition, grade, sqft_above, sqft_basement, yr_built, yr_renovated, zipcode, lat, long, sqft_living15, sqft_lot15, sqft_floor, liv_lot, sqft_garden]\n",
      "Index: []\n",
      "\n",
      "[0 rows x 25 columns] maximum size of the basement 4130.0\n"
     ]
    }
   ],
   "source": [
    "print(df_4bath.query('sqft_floor >= 7200'), df_4bath.query('sqft_basement >= 7200'), \"maximum size of the basement\", df_4bath.sqft_basement.max())"
   ]
  },
  {
   "cell_type": "markdown",
   "id": "63035cd7-00f2-4407-bfa1-0468bbc12fc5",
   "metadata": {},
   "source": [
    "It does not seem possible to have a tennis court inside of the building, as the maximum basement counts 4130 sqft.\n",
    "So the garden/lot needs to be big enough.\n",
    "Lets check for the pool."
   ]
  },
  {
   "cell_type": "code",
   "execution_count": 53,
   "id": "ff998a01-6755-43e9-8865-2bf91f3d86f3",
   "metadata": {},
   "outputs": [
    {
     "data": {
      "text/plain": [
       "140"
      ]
     },
     "execution_count": 53,
     "metadata": {},
     "output_type": "execute_result"
    }
   ],
   "source": [
    "df_4bath.query('sqft_basement >= 640')['id'].value_counts().sum()\n"
   ]
  },
  {
   "cell_type": "markdown",
   "id": "bd41857e-615d-4f37-b7d9-68d6da531f31",
   "metadata": {},
   "source": [
    "In 140 houses it should be possible to install a pool in the basement. Let's check their garden size for the tennis court, floor area and bathroom availability."
   ]
  },
  {
   "cell_type": "code",
   "execution_count": 55,
   "id": "7f813cc0-dc74-410a-801c-44de8a68a143",
   "metadata": {},
   "outputs": [
    {
     "data": {
      "text/html": [
       "<div>\n",
       "<style scoped>\n",
       "    .dataframe tbody tr th:only-of-type {\n",
       "        vertical-align: middle;\n",
       "    }\n",
       "\n",
       "    .dataframe tbody tr th {\n",
       "        vertical-align: top;\n",
       "    }\n",
       "\n",
       "    .dataframe thead th {\n",
       "        text-align: right;\n",
       "    }\n",
       "</style>\n",
       "<table border=\"1\" class=\"dataframe\">\n",
       "  <thead>\n",
       "    <tr style=\"text-align: right;\">\n",
       "      <th></th>\n",
       "      <th>date</th>\n",
       "      <th>price</th>\n",
       "      <th>house_id</th>\n",
       "      <th>id</th>\n",
       "      <th>bedrooms</th>\n",
       "      <th>bathrooms</th>\n",
       "      <th>sqft_living</th>\n",
       "      <th>sqft_lot</th>\n",
       "      <th>floors</th>\n",
       "      <th>waterfront</th>\n",
       "      <th>...</th>\n",
       "      <th>yr_built</th>\n",
       "      <th>yr_renovated</th>\n",
       "      <th>zipcode</th>\n",
       "      <th>lat</th>\n",
       "      <th>long</th>\n",
       "      <th>sqft_living15</th>\n",
       "      <th>sqft_lot15</th>\n",
       "      <th>sqft_floor</th>\n",
       "      <th>liv_lot</th>\n",
       "      <th>sqft_garden</th>\n",
       "    </tr>\n",
       "  </thead>\n",
       "  <tbody>\n",
       "    <tr>\n",
       "      <th>11741</th>\n",
       "      <td>2014-11-25</td>\n",
       "      <td>1250000.00</td>\n",
       "      <td>3134100023</td>\n",
       "      <td>11742</td>\n",
       "      <td>4.00</td>\n",
       "      <td>4.25</td>\n",
       "      <td>4980.00</td>\n",
       "      <td>13000.00</td>\n",
       "      <td>2.00</td>\n",
       "      <td>0.00</td>\n",
       "      <td>...</td>\n",
       "      <td>1982</td>\n",
       "      <td>0.00</td>\n",
       "      <td>98052</td>\n",
       "      <td>47.64</td>\n",
       "      <td>-122.10</td>\n",
       "      <td>2840.00</td>\n",
       "      <td>11308.00</td>\n",
       "      <td>1540.00</td>\n",
       "      <td>11.85</td>\n",
       "      <td>11460.00</td>\n",
       "    </tr>\n",
       "    <tr>\n",
       "      <th>9313</th>\n",
       "      <td>2014-12-05</td>\n",
       "      <td>2580000.00</td>\n",
       "      <td>7768700300</td>\n",
       "      <td>9314</td>\n",
       "      <td>4.00</td>\n",
       "      <td>4.25</td>\n",
       "      <td>5540.00</td>\n",
       "      <td>15408.00</td>\n",
       "      <td>2.00</td>\n",
       "      <td>0.00</td>\n",
       "      <td>...</td>\n",
       "      <td>2006</td>\n",
       "      <td>0.00</td>\n",
       "      <td>98004</td>\n",
       "      <td>47.61</td>\n",
       "      <td>-122.21</td>\n",
       "      <td>3570.00</td>\n",
       "      <td>14750.00</td>\n",
       "      <td>2140.00</td>\n",
       "      <td>13.89</td>\n",
       "      <td>13268.00</td>\n",
       "    </tr>\n",
       "    <tr>\n",
       "      <th>19093</th>\n",
       "      <td>2014-09-04</td>\n",
       "      <td>980000.00</td>\n",
       "      <td>2025059131</td>\n",
       "      <td>19094</td>\n",
       "      <td>4.00</td>\n",
       "      <td>4.25</td>\n",
       "      <td>3250.00</td>\n",
       "      <td>11780.00</td>\n",
       "      <td>2.00</td>\n",
       "      <td>0.00</td>\n",
       "      <td>...</td>\n",
       "      <td>1944</td>\n",
       "      <td>2001.00</td>\n",
       "      <td>98004</td>\n",
       "      <td>47.63</td>\n",
       "      <td>-122.20</td>\n",
       "      <td>1800.00</td>\n",
       "      <td>9000.00</td>\n",
       "      <td>1180.00</td>\n",
       "      <td>10.02</td>\n",
       "      <td>10600.00</td>\n",
       "    </tr>\n",
       "    <tr>\n",
       "      <th>11673</th>\n",
       "      <td>2014-06-20</td>\n",
       "      <td>1140000.00</td>\n",
       "      <td>1126069045</td>\n",
       "      <td>11674</td>\n",
       "      <td>6.00</td>\n",
       "      <td>4.25</td>\n",
       "      <td>6900.00</td>\n",
       "      <td>244716.00</td>\n",
       "      <td>2.00</td>\n",
       "      <td>0.00</td>\n",
       "      <td>...</td>\n",
       "      <td>2002</td>\n",
       "      <td>0.00</td>\n",
       "      <td>98077</td>\n",
       "      <td>47.75</td>\n",
       "      <td>-122.01</td>\n",
       "      <td>4170.00</td>\n",
       "      <td>266587.00</td>\n",
       "      <td>2410.00</td>\n",
       "      <td>0.98</td>\n",
       "      <td>242306.00</td>\n",
       "    </tr>\n",
       "    <tr>\n",
       "      <th>13097</th>\n",
       "      <td>2014-12-26</td>\n",
       "      <td>1140000.00</td>\n",
       "      <td>3758900220</td>\n",
       "      <td>13098</td>\n",
       "      <td>4.00</td>\n",
       "      <td>4.25</td>\n",
       "      <td>4590.00</td>\n",
       "      <td>17621.00</td>\n",
       "      <td>2.00</td>\n",
       "      <td>0.00</td>\n",
       "      <td>...</td>\n",
       "      <td>2003</td>\n",
       "      <td>0.00</td>\n",
       "      <td>98033</td>\n",
       "      <td>47.70</td>\n",
       "      <td>-122.20</td>\n",
       "      <td>3800.00</td>\n",
       "      <td>12268.00</td>\n",
       "      <td>1580.00</td>\n",
       "      <td>8.97</td>\n",
       "      <td>16041.00</td>\n",
       "    </tr>\n",
       "    <tr>\n",
       "      <th>...</th>\n",
       "      <td>...</td>\n",
       "      <td>...</td>\n",
       "      <td>...</td>\n",
       "      <td>...</td>\n",
       "      <td>...</td>\n",
       "      <td>...</td>\n",
       "      <td>...</td>\n",
       "      <td>...</td>\n",
       "      <td>...</td>\n",
       "      <td>...</td>\n",
       "      <td>...</td>\n",
       "      <td>...</td>\n",
       "      <td>...</td>\n",
       "      <td>...</td>\n",
       "      <td>...</td>\n",
       "      <td>...</td>\n",
       "      <td>...</td>\n",
       "      <td>...</td>\n",
       "      <td>...</td>\n",
       "      <td>...</td>\n",
       "      <td>...</td>\n",
       "    </tr>\n",
       "    <tr>\n",
       "      <th>21490</th>\n",
       "      <td>2014-05-09</td>\n",
       "      <td>2240000.00</td>\n",
       "      <td>2524069097</td>\n",
       "      <td>21491</td>\n",
       "      <td>5.00</td>\n",
       "      <td>6.50</td>\n",
       "      <td>7270.00</td>\n",
       "      <td>130017.00</td>\n",
       "      <td>2.00</td>\n",
       "      <td>0.00</td>\n",
       "      <td>...</td>\n",
       "      <td>2010</td>\n",
       "      <td>0.00</td>\n",
       "      <td>98027</td>\n",
       "      <td>47.54</td>\n",
       "      <td>-121.98</td>\n",
       "      <td>1800.00</td>\n",
       "      <td>44890.00</td>\n",
       "      <td>3210.00</td>\n",
       "      <td>2.47</td>\n",
       "      <td>126807.00</td>\n",
       "    </tr>\n",
       "    <tr>\n",
       "      <th>4020</th>\n",
       "      <td>2014-10-07</td>\n",
       "      <td>800000.00</td>\n",
       "      <td>9175600025</td>\n",
       "      <td>4021</td>\n",
       "      <td>7.00</td>\n",
       "      <td>6.75</td>\n",
       "      <td>7480.00</td>\n",
       "      <td>41664.00</td>\n",
       "      <td>2.00</td>\n",
       "      <td>0.00</td>\n",
       "      <td>...</td>\n",
       "      <td>1953</td>\n",
       "      <td>0.00</td>\n",
       "      <td>98166</td>\n",
       "      <td>47.46</td>\n",
       "      <td>-122.37</td>\n",
       "      <td>2810.00</td>\n",
       "      <td>33190.00</td>\n",
       "      <td>2540.00</td>\n",
       "      <td>6.10</td>\n",
       "      <td>39124.00</td>\n",
       "    </tr>\n",
       "    <tr>\n",
       "      <th>9245</th>\n",
       "      <td>2014-09-19</td>\n",
       "      <td>6890000.00</td>\n",
       "      <td>9208900037</td>\n",
       "      <td>9246</td>\n",
       "      <td>6.00</td>\n",
       "      <td>7.75</td>\n",
       "      <td>9890.00</td>\n",
       "      <td>31374.00</td>\n",
       "      <td>2.00</td>\n",
       "      <td>0.00</td>\n",
       "      <td>...</td>\n",
       "      <td>2001</td>\n",
       "      <td>0.00</td>\n",
       "      <td>98039</td>\n",
       "      <td>47.63</td>\n",
       "      <td>-122.24</td>\n",
       "      <td>4540.00</td>\n",
       "      <td>42730.00</td>\n",
       "      <td>4430.00</td>\n",
       "      <td>14.12</td>\n",
       "      <td>26944.00</td>\n",
       "    </tr>\n",
       "    <tr>\n",
       "      <th>7245</th>\n",
       "      <td>2014-10-13</td>\n",
       "      <td>7700000.00</td>\n",
       "      <td>6762700020</td>\n",
       "      <td>7246</td>\n",
       "      <td>6.00</td>\n",
       "      <td>8.00</td>\n",
       "      <td>12050.00</td>\n",
       "      <td>27600.00</td>\n",
       "      <td>2.50</td>\n",
       "      <td>0.00</td>\n",
       "      <td>...</td>\n",
       "      <td>1910</td>\n",
       "      <td>1987.00</td>\n",
       "      <td>98102</td>\n",
       "      <td>47.63</td>\n",
       "      <td>-122.32</td>\n",
       "      <td>3940.00</td>\n",
       "      <td>8800.00</td>\n",
       "      <td>3428.00</td>\n",
       "      <td>12.42</td>\n",
       "      <td>24172.00</td>\n",
       "    </tr>\n",
       "    <tr>\n",
       "      <th>12764</th>\n",
       "      <td>2014-05-05</td>\n",
       "      <td>2280000.00</td>\n",
       "      <td>1225069038</td>\n",
       "      <td>12765</td>\n",
       "      <td>7.00</td>\n",
       "      <td>8.00</td>\n",
       "      <td>13540.00</td>\n",
       "      <td>307752.00</td>\n",
       "      <td>3.00</td>\n",
       "      <td>0.00</td>\n",
       "      <td>...</td>\n",
       "      <td>1999</td>\n",
       "      <td>0.00</td>\n",
       "      <td>98053</td>\n",
       "      <td>47.67</td>\n",
       "      <td>-121.99</td>\n",
       "      <td>4850.00</td>\n",
       "      <td>217800.00</td>\n",
       "      <td>3136.67</td>\n",
       "      <td>1.02</td>\n",
       "      <td>304615.33</td>\n",
       "    </tr>\n",
       "  </tbody>\n",
       "</table>\n",
       "<p>82 rows × 25 columns</p>\n",
       "</div>"
      ],
      "text/plain": [
       "            date      price    house_id     id  bedrooms  bathrooms  \\\n",
       "11741 2014-11-25 1250000.00  3134100023  11742      4.00       4.25   \n",
       "9313  2014-12-05 2580000.00  7768700300   9314      4.00       4.25   \n",
       "19093 2014-09-04  980000.00  2025059131  19094      4.00       4.25   \n",
       "11673 2014-06-20 1140000.00  1126069045  11674      6.00       4.25   \n",
       "13097 2014-12-26 1140000.00  3758900220  13098      4.00       4.25   \n",
       "...          ...        ...         ...    ...       ...        ...   \n",
       "21490 2014-05-09 2240000.00  2524069097  21491      5.00       6.50   \n",
       "4020  2014-10-07  800000.00  9175600025   4021      7.00       6.75   \n",
       "9245  2014-09-19 6890000.00  9208900037   9246      6.00       7.75   \n",
       "7245  2014-10-13 7700000.00  6762700020   7246      6.00       8.00   \n",
       "12764 2014-05-05 2280000.00  1225069038  12765      7.00       8.00   \n",
       "\n",
       "       sqft_living  sqft_lot  floors  waterfront  ...  yr_built  yr_renovated  \\\n",
       "11741      4980.00  13000.00    2.00        0.00  ...      1982          0.00   \n",
       "9313       5540.00  15408.00    2.00        0.00  ...      2006          0.00   \n",
       "19093      3250.00  11780.00    2.00        0.00  ...      1944       2001.00   \n",
       "11673      6900.00 244716.00    2.00        0.00  ...      2002          0.00   \n",
       "13097      4590.00  17621.00    2.00        0.00  ...      2003          0.00   \n",
       "...            ...       ...     ...         ...  ...       ...           ...   \n",
       "21490      7270.00 130017.00    2.00        0.00  ...      2010          0.00   \n",
       "4020       7480.00  41664.00    2.00        0.00  ...      1953          0.00   \n",
       "9245       9890.00  31374.00    2.00        0.00  ...      2001          0.00   \n",
       "7245      12050.00  27600.00    2.50        0.00  ...      1910       1987.00   \n",
       "12764     13540.00 307752.00    3.00        0.00  ...      1999          0.00   \n",
       "\n",
       "       zipcode   lat    long  sqft_living15  sqft_lot15  sqft_floor  liv_lot  \\\n",
       "11741    98052 47.64 -122.10        2840.00    11308.00     1540.00    11.85   \n",
       "9313     98004 47.61 -122.21        3570.00    14750.00     2140.00    13.89   \n",
       "19093    98004 47.63 -122.20        1800.00     9000.00     1180.00    10.02   \n",
       "11673    98077 47.75 -122.01        4170.00   266587.00     2410.00     0.98   \n",
       "13097    98033 47.70 -122.20        3800.00    12268.00     1580.00     8.97   \n",
       "...        ...   ...     ...            ...         ...         ...      ...   \n",
       "21490    98027 47.54 -121.98        1800.00    44890.00     3210.00     2.47   \n",
       "4020     98166 47.46 -122.37        2810.00    33190.00     2540.00     6.10   \n",
       "9245     98039 47.63 -122.24        4540.00    42730.00     4430.00    14.12   \n",
       "7245     98102 47.63 -122.32        3940.00     8800.00     3428.00    12.42   \n",
       "12764    98053 47.67 -121.99        4850.00   217800.00     3136.67     1.02   \n",
       "\n",
       "       sqft_garden  \n",
       "11741     11460.00  \n",
       "9313      13268.00  \n",
       "19093     10600.00  \n",
       "11673    242306.00  \n",
       "13097     16041.00  \n",
       "...            ...  \n",
       "21490    126807.00  \n",
       "4020      39124.00  \n",
       "9245      26944.00  \n",
       "7245      24172.00  \n",
       "12764    304615.33  \n",
       "\n",
       "[82 rows x 25 columns]"
      ]
     },
     "execution_count": 55,
     "metadata": {},
     "output_type": "execute_result"
    }
   ],
   "source": [
    "# cut off of houses, which are too small for a tennis court\n",
    "df_pool_tennis = df_4bath.query('sqft_basement >=640 and sqft_garden > 9100')\n",
    "df_pool_tennis\n",
    "\n",
    "#save as csv.file\n",
    "#df_pool_tennis.to_csv('data/df_pool_tennis.csv', index =False)\n"
   ]
  },
  {
   "cell_type": "code",
   "execution_count": 58,
   "id": "f3344fce-8122-4c59-8d68-1ade20f6cca3",
   "metadata": {},
   "outputs": [
    {
     "data": {
      "application/vnd.plotly.v1+json": {
       "config": {
        "plotlyServerURL": "https://plot.ly"
       },
       "data": [
        {
         "hovertemplate": "<b>%{hovertext}</b><br><br>sqft_basement=%{x}<br>sqft_lot=%{y}<br>floors=%{marker.size}<br>bathrooms=%{marker.color}<extra></extra>",
         "hovertext": [
          2,
          2,
          2,
          2,
          2,
          2,
          2.5,
          2,
          2,
          2,
          2,
          1,
          2,
          2,
          3,
          2,
          2,
          2,
          2,
          2,
          2,
          2,
          1,
          2,
          2,
          2,
          2,
          3,
          2,
          2,
          1,
          2,
          2,
          2,
          2,
          2,
          2,
          2,
          2,
          2,
          2,
          2,
          2,
          2,
          2,
          2,
          2,
          1,
          2.5,
          2,
          2,
          2,
          1,
          1,
          2,
          2,
          1,
          2,
          1,
          2.5,
          1,
          2,
          2,
          2,
          2,
          1,
          2,
          2,
          1,
          2,
          2,
          2,
          2,
          2,
          2,
          2,
          2,
          2,
          2,
          2,
          2.5,
          3
         ],
         "legendgroup": "",
         "marker": {
          "color": [
           4.25,
           4.25,
           4.25,
           4.25,
           4.25,
           4.25,
           4.25,
           4.25,
           4.25,
           4.25,
           4.25,
           4.25,
           4.25,
           4.25,
           4.25,
           4.25,
           4.25,
           4.25,
           4.25,
           4.25,
           4.25,
           4.25,
           4.25,
           4.25,
           4.25,
           4.25,
           4.25,
           4.5,
           4.5,
           4.5,
           4.5,
           4.5,
           4.5,
           4.5,
           4.5,
           4.5,
           4.5,
           4.5,
           4.5,
           4.5,
           4.5,
           4.5,
           4.5,
           4.5,
           4.5,
           4.5,
           4.5,
           4.75,
           4.75,
           4.75,
           4.75,
           4.75,
           4.75,
           4.75,
           4.75,
           5,
           5,
           5,
           5,
           5,
           5,
           5,
           5.25,
           5.25,
           5.25,
           5.5,
           5.5,
           5.5,
           5.5,
           5.5,
           5.75,
           5.75,
           5.75,
           6,
           6,
           6,
           6.25,
           6.5,
           6.75,
           7.75,
           8,
           8
          ],
          "coloraxis": "coloraxis",
          "size": [
           2,
           2,
           2,
           2,
           2,
           2,
           2.5,
           2,
           2,
           2,
           2,
           1,
           2,
           2,
           3,
           2,
           2,
           2,
           2,
           2,
           2,
           2,
           1,
           2,
           2,
           2,
           2,
           3,
           2,
           2,
           1,
           2,
           2,
           2,
           2,
           2,
           2,
           2,
           2,
           2,
           2,
           2,
           2,
           2,
           2,
           2,
           2,
           1,
           2.5,
           2,
           2,
           2,
           1,
           1,
           2,
           2,
           1,
           2,
           1,
           2.5,
           1,
           2,
           2,
           2,
           2,
           1,
           2,
           2,
           1,
           2,
           2,
           2,
           2,
           2,
           2,
           2,
           2,
           2,
           2,
           2,
           2.5,
           3
          ],
          "sizemode": "area",
          "sizeref": 0.0075,
          "symbol": "circle"
         },
         "mode": "markers",
         "name": "",
         "orientation": "v",
         "showlegend": false,
         "type": "scatter",
         "x": [
          1900,
          1260,
          890,
          2080,
          1430,
          1560,
          800,
          1020,
          1070,
          1710,
          910,
          1900,
          900,
          1390,
          1650,
          950,
          1140,
          1870,
          1800,
          1010,
          1280,
          1110,
          1620,
          1024,
          3260,
          1510,
          780,
          1150,
          850,
          920,
          1530,
          1940,
          730,
          1100,
          1830,
          1800,
          870,
          1340,
          940,
          1670,
          690,
          1270,
          1140,
          710,
          1150,
          1010,
          1780,
          1860,
          670,
          1110,
          1270,
          1830,
          1630,
          1700,
          1520,
          770,
          2500,
          1280,
          1284,
          1860,
          2220,
          2070,
          1320,
          900,
          2120,
          2730,
          1320,
          1110,
          1150,
          1700,
          1070,
          1000,
          3000,
          1890,
          2810,
          1640,
          2550,
          850,
          2400,
          1030,
          3480,
          4130
         ],
         "xaxis": "x",
         "y": [
          13000,
          15408,
          11780,
          244716,
          17621,
          193593,
          43838,
          16258,
          13833,
          13928,
          13497,
          18827,
          13077,
          108464,
          15682,
          52889,
          42755,
          215186,
          15188,
          19412,
          11547,
          11466,
          16048,
          26040,
          16471,
          18741,
          308080,
          23373,
          13551,
          15246,
          101930,
          219542,
          62726,
          270236,
          41327,
          23716,
          13165,
          35889,
          40164,
          16065,
          24767,
          17168,
          10550,
          24920,
          13912,
          15580,
          11023,
          11000,
          24085,
          17811,
          16747,
          13180,
          47480,
          35000,
          17004,
          14649,
          21630,
          23985,
          31675,
          18200,
          16909,
          13906,
          14986,
          18707,
          27490,
          42840,
          16573,
          18898,
          217374,
          13782,
          230868,
          223462,
          35069,
          21540,
          279968,
          40806,
          64033,
          130017,
          41664,
          31374,
          27600,
          307752
         ],
         "yaxis": "y"
        }
       ],
       "layout": {
        "coloraxis": {
         "colorbar": {
          "title": {
           "text": "bathrooms"
          }
         },
         "colorscale": [
          [
           0,
           "#0d0887"
          ],
          [
           0.1111111111111111,
           "#46039f"
          ],
          [
           0.2222222222222222,
           "#7201a8"
          ],
          [
           0.3333333333333333,
           "#9c179e"
          ],
          [
           0.4444444444444444,
           "#bd3786"
          ],
          [
           0.5555555555555556,
           "#d8576b"
          ],
          [
           0.6666666666666666,
           "#ed7953"
          ],
          [
           0.7777777777777778,
           "#fb9f3a"
          ],
          [
           0.8888888888888888,
           "#fdca26"
          ],
          [
           1,
           "#f0f921"
          ]
         ]
        },
        "legend": {
         "itemsizing": "constant",
         "tracegroupgap": 0
        },
        "template": {
         "data": {
          "bar": [
           {
            "error_x": {
             "color": "#2a3f5f"
            },
            "error_y": {
             "color": "#2a3f5f"
            },
            "marker": {
             "line": {
              "color": "#E5ECF6",
              "width": 0.5
             },
             "pattern": {
              "fillmode": "overlay",
              "size": 10,
              "solidity": 0.2
             }
            },
            "type": "bar"
           }
          ],
          "barpolar": [
           {
            "marker": {
             "line": {
              "color": "#E5ECF6",
              "width": 0.5
             },
             "pattern": {
              "fillmode": "overlay",
              "size": 10,
              "solidity": 0.2
             }
            },
            "type": "barpolar"
           }
          ],
          "carpet": [
           {
            "aaxis": {
             "endlinecolor": "#2a3f5f",
             "gridcolor": "white",
             "linecolor": "white",
             "minorgridcolor": "white",
             "startlinecolor": "#2a3f5f"
            },
            "baxis": {
             "endlinecolor": "#2a3f5f",
             "gridcolor": "white",
             "linecolor": "white",
             "minorgridcolor": "white",
             "startlinecolor": "#2a3f5f"
            },
            "type": "carpet"
           }
          ],
          "choropleth": [
           {
            "colorbar": {
             "outlinewidth": 0,
             "ticks": ""
            },
            "type": "choropleth"
           }
          ],
          "contour": [
           {
            "colorbar": {
             "outlinewidth": 0,
             "ticks": ""
            },
            "colorscale": [
             [
              0,
              "#0d0887"
             ],
             [
              0.1111111111111111,
              "#46039f"
             ],
             [
              0.2222222222222222,
              "#7201a8"
             ],
             [
              0.3333333333333333,
              "#9c179e"
             ],
             [
              0.4444444444444444,
              "#bd3786"
             ],
             [
              0.5555555555555556,
              "#d8576b"
             ],
             [
              0.6666666666666666,
              "#ed7953"
             ],
             [
              0.7777777777777778,
              "#fb9f3a"
             ],
             [
              0.8888888888888888,
              "#fdca26"
             ],
             [
              1,
              "#f0f921"
             ]
            ],
            "type": "contour"
           }
          ],
          "contourcarpet": [
           {
            "colorbar": {
             "outlinewidth": 0,
             "ticks": ""
            },
            "type": "contourcarpet"
           }
          ],
          "heatmap": [
           {
            "colorbar": {
             "outlinewidth": 0,
             "ticks": ""
            },
            "colorscale": [
             [
              0,
              "#0d0887"
             ],
             [
              0.1111111111111111,
              "#46039f"
             ],
             [
              0.2222222222222222,
              "#7201a8"
             ],
             [
              0.3333333333333333,
              "#9c179e"
             ],
             [
              0.4444444444444444,
              "#bd3786"
             ],
             [
              0.5555555555555556,
              "#d8576b"
             ],
             [
              0.6666666666666666,
              "#ed7953"
             ],
             [
              0.7777777777777778,
              "#fb9f3a"
             ],
             [
              0.8888888888888888,
              "#fdca26"
             ],
             [
              1,
              "#f0f921"
             ]
            ],
            "type": "heatmap"
           }
          ],
          "heatmapgl": [
           {
            "colorbar": {
             "outlinewidth": 0,
             "ticks": ""
            },
            "colorscale": [
             [
              0,
              "#0d0887"
             ],
             [
              0.1111111111111111,
              "#46039f"
             ],
             [
              0.2222222222222222,
              "#7201a8"
             ],
             [
              0.3333333333333333,
              "#9c179e"
             ],
             [
              0.4444444444444444,
              "#bd3786"
             ],
             [
              0.5555555555555556,
              "#d8576b"
             ],
             [
              0.6666666666666666,
              "#ed7953"
             ],
             [
              0.7777777777777778,
              "#fb9f3a"
             ],
             [
              0.8888888888888888,
              "#fdca26"
             ],
             [
              1,
              "#f0f921"
             ]
            ],
            "type": "heatmapgl"
           }
          ],
          "histogram": [
           {
            "marker": {
             "pattern": {
              "fillmode": "overlay",
              "size": 10,
              "solidity": 0.2
             }
            },
            "type": "histogram"
           }
          ],
          "histogram2d": [
           {
            "colorbar": {
             "outlinewidth": 0,
             "ticks": ""
            },
            "colorscale": [
             [
              0,
              "#0d0887"
             ],
             [
              0.1111111111111111,
              "#46039f"
             ],
             [
              0.2222222222222222,
              "#7201a8"
             ],
             [
              0.3333333333333333,
              "#9c179e"
             ],
             [
              0.4444444444444444,
              "#bd3786"
             ],
             [
              0.5555555555555556,
              "#d8576b"
             ],
             [
              0.6666666666666666,
              "#ed7953"
             ],
             [
              0.7777777777777778,
              "#fb9f3a"
             ],
             [
              0.8888888888888888,
              "#fdca26"
             ],
             [
              1,
              "#f0f921"
             ]
            ],
            "type": "histogram2d"
           }
          ],
          "histogram2dcontour": [
           {
            "colorbar": {
             "outlinewidth": 0,
             "ticks": ""
            },
            "colorscale": [
             [
              0,
              "#0d0887"
             ],
             [
              0.1111111111111111,
              "#46039f"
             ],
             [
              0.2222222222222222,
              "#7201a8"
             ],
             [
              0.3333333333333333,
              "#9c179e"
             ],
             [
              0.4444444444444444,
              "#bd3786"
             ],
             [
              0.5555555555555556,
              "#d8576b"
             ],
             [
              0.6666666666666666,
              "#ed7953"
             ],
             [
              0.7777777777777778,
              "#fb9f3a"
             ],
             [
              0.8888888888888888,
              "#fdca26"
             ],
             [
              1,
              "#f0f921"
             ]
            ],
            "type": "histogram2dcontour"
           }
          ],
          "mesh3d": [
           {
            "colorbar": {
             "outlinewidth": 0,
             "ticks": ""
            },
            "type": "mesh3d"
           }
          ],
          "parcoords": [
           {
            "line": {
             "colorbar": {
              "outlinewidth": 0,
              "ticks": ""
             }
            },
            "type": "parcoords"
           }
          ],
          "pie": [
           {
            "automargin": true,
            "type": "pie"
           }
          ],
          "scatter": [
           {
            "fillpattern": {
             "fillmode": "overlay",
             "size": 10,
             "solidity": 0.2
            },
            "type": "scatter"
           }
          ],
          "scatter3d": [
           {
            "line": {
             "colorbar": {
              "outlinewidth": 0,
              "ticks": ""
             }
            },
            "marker": {
             "colorbar": {
              "outlinewidth": 0,
              "ticks": ""
             }
            },
            "type": "scatter3d"
           }
          ],
          "scattercarpet": [
           {
            "marker": {
             "colorbar": {
              "outlinewidth": 0,
              "ticks": ""
             }
            },
            "type": "scattercarpet"
           }
          ],
          "scattergeo": [
           {
            "marker": {
             "colorbar": {
              "outlinewidth": 0,
              "ticks": ""
             }
            },
            "type": "scattergeo"
           }
          ],
          "scattergl": [
           {
            "marker": {
             "colorbar": {
              "outlinewidth": 0,
              "ticks": ""
             }
            },
            "type": "scattergl"
           }
          ],
          "scattermapbox": [
           {
            "marker": {
             "colorbar": {
              "outlinewidth": 0,
              "ticks": ""
             }
            },
            "type": "scattermapbox"
           }
          ],
          "scatterpolar": [
           {
            "marker": {
             "colorbar": {
              "outlinewidth": 0,
              "ticks": ""
             }
            },
            "type": "scatterpolar"
           }
          ],
          "scatterpolargl": [
           {
            "marker": {
             "colorbar": {
              "outlinewidth": 0,
              "ticks": ""
             }
            },
            "type": "scatterpolargl"
           }
          ],
          "scatterternary": [
           {
            "marker": {
             "colorbar": {
              "outlinewidth": 0,
              "ticks": ""
             }
            },
            "type": "scatterternary"
           }
          ],
          "surface": [
           {
            "colorbar": {
             "outlinewidth": 0,
             "ticks": ""
            },
            "colorscale": [
             [
              0,
              "#0d0887"
             ],
             [
              0.1111111111111111,
              "#46039f"
             ],
             [
              0.2222222222222222,
              "#7201a8"
             ],
             [
              0.3333333333333333,
              "#9c179e"
             ],
             [
              0.4444444444444444,
              "#bd3786"
             ],
             [
              0.5555555555555556,
              "#d8576b"
             ],
             [
              0.6666666666666666,
              "#ed7953"
             ],
             [
              0.7777777777777778,
              "#fb9f3a"
             ],
             [
              0.8888888888888888,
              "#fdca26"
             ],
             [
              1,
              "#f0f921"
             ]
            ],
            "type": "surface"
           }
          ],
          "table": [
           {
            "cells": {
             "fill": {
              "color": "#EBF0F8"
             },
             "line": {
              "color": "white"
             }
            },
            "header": {
             "fill": {
              "color": "#C8D4E3"
             },
             "line": {
              "color": "white"
             }
            },
            "type": "table"
           }
          ]
         },
         "layout": {
          "annotationdefaults": {
           "arrowcolor": "#2a3f5f",
           "arrowhead": 0,
           "arrowwidth": 1
          },
          "autotypenumbers": "strict",
          "coloraxis": {
           "colorbar": {
            "outlinewidth": 0,
            "ticks": ""
           }
          },
          "colorscale": {
           "diverging": [
            [
             0,
             "#8e0152"
            ],
            [
             0.1,
             "#c51b7d"
            ],
            [
             0.2,
             "#de77ae"
            ],
            [
             0.3,
             "#f1b6da"
            ],
            [
             0.4,
             "#fde0ef"
            ],
            [
             0.5,
             "#f7f7f7"
            ],
            [
             0.6,
             "#e6f5d0"
            ],
            [
             0.7,
             "#b8e186"
            ],
            [
             0.8,
             "#7fbc41"
            ],
            [
             0.9,
             "#4d9221"
            ],
            [
             1,
             "#276419"
            ]
           ],
           "sequential": [
            [
             0,
             "#0d0887"
            ],
            [
             0.1111111111111111,
             "#46039f"
            ],
            [
             0.2222222222222222,
             "#7201a8"
            ],
            [
             0.3333333333333333,
             "#9c179e"
            ],
            [
             0.4444444444444444,
             "#bd3786"
            ],
            [
             0.5555555555555556,
             "#d8576b"
            ],
            [
             0.6666666666666666,
             "#ed7953"
            ],
            [
             0.7777777777777778,
             "#fb9f3a"
            ],
            [
             0.8888888888888888,
             "#fdca26"
            ],
            [
             1,
             "#f0f921"
            ]
           ],
           "sequentialminus": [
            [
             0,
             "#0d0887"
            ],
            [
             0.1111111111111111,
             "#46039f"
            ],
            [
             0.2222222222222222,
             "#7201a8"
            ],
            [
             0.3333333333333333,
             "#9c179e"
            ],
            [
             0.4444444444444444,
             "#bd3786"
            ],
            [
             0.5555555555555556,
             "#d8576b"
            ],
            [
             0.6666666666666666,
             "#ed7953"
            ],
            [
             0.7777777777777778,
             "#fb9f3a"
            ],
            [
             0.8888888888888888,
             "#fdca26"
            ],
            [
             1,
             "#f0f921"
            ]
           ]
          },
          "colorway": [
           "#636efa",
           "#EF553B",
           "#00cc96",
           "#ab63fa",
           "#FFA15A",
           "#19d3f3",
           "#FF6692",
           "#B6E880",
           "#FF97FF",
           "#FECB52"
          ],
          "font": {
           "color": "#2a3f5f"
          },
          "geo": {
           "bgcolor": "white",
           "lakecolor": "white",
           "landcolor": "#E5ECF6",
           "showlakes": true,
           "showland": true,
           "subunitcolor": "white"
          },
          "hoverlabel": {
           "align": "left"
          },
          "hovermode": "closest",
          "mapbox": {
           "style": "light"
          },
          "paper_bgcolor": "white",
          "plot_bgcolor": "#E5ECF6",
          "polar": {
           "angularaxis": {
            "gridcolor": "white",
            "linecolor": "white",
            "ticks": ""
           },
           "bgcolor": "#E5ECF6",
           "radialaxis": {
            "gridcolor": "white",
            "linecolor": "white",
            "ticks": ""
           }
          },
          "scene": {
           "xaxis": {
            "backgroundcolor": "#E5ECF6",
            "gridcolor": "white",
            "gridwidth": 2,
            "linecolor": "white",
            "showbackground": true,
            "ticks": "",
            "zerolinecolor": "white"
           },
           "yaxis": {
            "backgroundcolor": "#E5ECF6",
            "gridcolor": "white",
            "gridwidth": 2,
            "linecolor": "white",
            "showbackground": true,
            "ticks": "",
            "zerolinecolor": "white"
           },
           "zaxis": {
            "backgroundcolor": "#E5ECF6",
            "gridcolor": "white",
            "gridwidth": 2,
            "linecolor": "white",
            "showbackground": true,
            "ticks": "",
            "zerolinecolor": "white"
           }
          },
          "shapedefaults": {
           "line": {
            "color": "#2a3f5f"
           }
          },
          "ternary": {
           "aaxis": {
            "gridcolor": "white",
            "linecolor": "white",
            "ticks": ""
           },
           "baxis": {
            "gridcolor": "white",
            "linecolor": "white",
            "ticks": ""
           },
           "bgcolor": "#E5ECF6",
           "caxis": {
            "gridcolor": "white",
            "linecolor": "white",
            "ticks": ""
           }
          },
          "title": {
           "x": 0.05
          },
          "xaxis": {
           "automargin": true,
           "gridcolor": "white",
           "linecolor": "white",
           "ticks": "",
           "title": {
            "standoff": 15
           },
           "zerolinecolor": "white",
           "zerolinewidth": 2
          },
          "yaxis": {
           "automargin": true,
           "gridcolor": "white",
           "linecolor": "white",
           "ticks": "",
           "title": {
            "standoff": 15
           },
           "zerolinecolor": "white",
           "zerolinewidth": 2
          }
         }
        },
        "title": {
         "text": "Favorable houses with a tennis court in the garden and a pool inside the house",
         "x": 0.5
        },
        "xaxis": {
         "anchor": "y",
         "domain": [
          0,
          1
         ],
         "title": {
          "text": "Area basement in sqft"
         }
        },
        "yaxis": {
         "anchor": "x",
         "domain": [
          0,
          1
         ],
         "title": {
          "text": "Area lot in sqft"
         }
        }
       }
      }
     },
     "metadata": {},
     "output_type": "display_data"
    }
   ],
   "source": [
    "fig=px.scatter(df_pool_tennis, x='sqft_basement', y='sqft_lot', size='floors', \n",
    "               hover_name='floors', color='bathrooms',title='Favorable houses with a tennis court in the garden and a pool inside the house')\n",
    "fig.update_layout(yaxis=dict(title=\"Area lot in sqft\"), xaxis=dict(title=\"Area basement in sqft\"),title_x=0.5)\n",
    "fig.show()"
   ]
  },
  {
   "cell_type": "markdown",
   "id": "0b105c86-444c-4a19-b1e0-ee15702a41b0",
   "metadata": {},
   "source": [
    "We can see 82 houses, with a basement bigger than 640 sqft to include a luxury pool in there and lot including a tennis court (those with a garden size less than 9100 sqft. were excluded), regarding the whole lot size, most of the houses are up to 100.000 sqft with 5-7 bathrooms and 2 floors."
   ]
  },
  {
   "cell_type": "markdown",
   "id": "20e31fe2-4ceb-4ed7-b94a-50e71b11130a",
   "metadata": {},
   "source": [
    "**Hypothesis 4: Are there houses close to a golf yard?**\n",
    "\n",
    "Therefore we want to plot the 82 houses we found in a Seattle map. Then look for some golf resorts and plot them together."
   ]
  },
  {
   "cell_type": "code",
   "execution_count": 60,
   "id": "0f3fc20e-6227-4f70-b287-3d127ccdaeb4",
   "metadata": {},
   "outputs": [],
   "source": [
    "# reset index of these houses to get a better picture\n",
    "df_pool_tennis=df_pool_tennis.reset_index()\n",
    "df_pool_tennis['index']=df_pool_tennis.index"
   ]
  },
  {
   "cell_type": "code",
   "execution_count": 61,
   "id": "eb50b13f-690a-4059-85a5-a647161d086a",
   "metadata": {},
   "outputs": [
    {
     "data": {
      "text/html": [
       "<div>\n",
       "<style scoped>\n",
       "    .dataframe tbody tr th:only-of-type {\n",
       "        vertical-align: middle;\n",
       "    }\n",
       "\n",
       "    .dataframe tbody tr th {\n",
       "        vertical-align: top;\n",
       "    }\n",
       "\n",
       "    .dataframe thead th {\n",
       "        text-align: right;\n",
       "    }\n",
       "</style>\n",
       "<table border=\"1\" class=\"dataframe\">\n",
       "  <thead>\n",
       "    <tr style=\"text-align: right;\">\n",
       "      <th></th>\n",
       "      <th>id</th>\n",
       "      <th>name</th>\n",
       "      <th>long</th>\n",
       "      <th>lat</th>\n",
       "    </tr>\n",
       "  </thead>\n",
       "  <tbody>\n",
       "    <tr>\n",
       "      <th>0</th>\n",
       "      <td>1</td>\n",
       "      <td>seattle_golf_club</td>\n",
       "      <td>-122.36</td>\n",
       "      <td>47.74</td>\n",
       "    </tr>\n",
       "    <tr>\n",
       "      <th>1</th>\n",
       "      <td>2</td>\n",
       "      <td>west_seattle_golf_course</td>\n",
       "      <td>-122.37</td>\n",
       "      <td>47.56</td>\n",
       "    </tr>\n",
       "    <tr>\n",
       "      <th>2</th>\n",
       "      <td>3</td>\n",
       "      <td>foster_golf_links</td>\n",
       "      <td>-122.26</td>\n",
       "      <td>47.48</td>\n",
       "    </tr>\n",
       "    <tr>\n",
       "      <th>3</th>\n",
       "      <td>4</td>\n",
       "      <td>green_lake_pitch</td>\n",
       "      <td>-122.34</td>\n",
       "      <td>47.67</td>\n",
       "    </tr>\n",
       "  </tbody>\n",
       "</table>\n",
       "</div>"
      ],
      "text/plain": [
       "   id                      name    long   lat\n",
       "0   1         seattle_golf_club -122.36 47.74\n",
       "1   2  west_seattle_golf_course -122.37 47.56\n",
       "2   3         foster_golf_links -122.26 47.48\n",
       "3   4          green_lake_pitch -122.34 47.67"
      ]
     },
     "execution_count": 61,
     "metadata": {},
     "output_type": "execute_result"
    }
   ],
   "source": [
    "# collect the location of some golf resorts and create a df\n",
    "golf_vals=[[1,'seattle_golf_club',-122.3609,47.7377],\n",
    "           [2,'west_seattle_golf_course',-122.3698,47.5594],\n",
    "           [3,'foster_golf_links',-122.2593,47.4797],\n",
    "           [4,'green_lake_pitch',-122.34113,47.67085]]\n",
    "golf_cols=['id','name','long', 'lat']\n",
    "df_golf = pd.DataFrame(data=golf_vals, columns=golf_cols)\n",
    "df_golf\n",
    "df_golf.head()"
   ]
  },
  {
   "cell_type": "code",
   "execution_count": 66,
   "id": "deb79e1e-4572-4fcb-ad58-7cc7afce8821",
   "metadata": {},
   "outputs": [],
   "source": [
    "# join both dataframes to plot in one picture\n",
    "#first add column to house data frame to assign type = house and to golf df type = golf\n",
    "df_pool_tennis=df_pool_tennis.eval(\"type = 'house'\")\n",
    "df_golf=df_golf.eval(\"type='golf'\")"
   ]
  },
  {
   "cell_type": "code",
   "execution_count": 71,
   "id": "e470a4be-21db-4454-a66c-f2e57efccb2c",
   "metadata": {},
   "outputs": [],
   "source": [
    "# second, merge the two dataframes\n",
    "df_pool_tennis_golf=pd.concat([df_pool_tennis,df_golf], axis=0, join='outer', ignore_index =True)\n",
    "df_pool_tennis_golf['index']=df_pool_tennis_golf.index\n",
    "#df_pool_tennis_golf.tail()"
   ]
  },
  {
   "cell_type": "code",
   "execution_count": 75,
   "id": "f4073530-fb93-4982-9fc2-4fd76f763f6b",
   "metadata": {},
   "outputs": [
    {
     "data": {
      "application/vnd.plotly.v1+json": {
       "config": {
        "plotlyServerURL": "https://plot.ly"
       },
       "data": [
        {
         "customdata": [
          [
           13000,
           4.25,
           2
          ],
          [
           15408,
           4.25,
           2
          ],
          [
           11780,
           4.25,
           2
          ],
          [
           244716,
           4.25,
           2
          ],
          [
           17621,
           4.25,
           2
          ],
          [
           193593,
           4.25,
           2
          ],
          [
           43838,
           4.25,
           2.5
          ],
          [
           16258,
           4.25,
           2
          ],
          [
           13833,
           4.25,
           2
          ],
          [
           13928,
           4.25,
           2
          ],
          [
           13497,
           4.25,
           2
          ],
          [
           18827,
           4.25,
           1
          ],
          [
           13077,
           4.25,
           2
          ],
          [
           108464,
           4.25,
           2
          ],
          [
           15682,
           4.25,
           3
          ],
          [
           52889,
           4.25,
           2
          ],
          [
           42755,
           4.25,
           2
          ],
          [
           215186,
           4.25,
           2
          ],
          [
           15188,
           4.25,
           2
          ],
          [
           19412,
           4.25,
           2
          ],
          [
           11547,
           4.25,
           2
          ],
          [
           11466,
           4.25,
           2
          ],
          [
           16048,
           4.25,
           1
          ],
          [
           26040,
           4.25,
           2
          ],
          [
           16471,
           4.25,
           2
          ],
          [
           18741,
           4.25,
           2
          ],
          [
           308080,
           4.25,
           2
          ],
          [
           23373,
           4.5,
           3
          ],
          [
           13551,
           4.5,
           2
          ],
          [
           15246,
           4.5,
           2
          ],
          [
           101930,
           4.5,
           1
          ],
          [
           219542,
           4.5,
           2
          ],
          [
           62726,
           4.5,
           2
          ],
          [
           270236,
           4.5,
           2
          ],
          [
           41327,
           4.5,
           2
          ],
          [
           23716,
           4.5,
           2
          ],
          [
           13165,
           4.5,
           2
          ],
          [
           35889,
           4.5,
           2
          ],
          [
           40164,
           4.5,
           2
          ],
          [
           16065,
           4.5,
           2
          ],
          [
           24767,
           4.5,
           2
          ],
          [
           17168,
           4.5,
           2
          ],
          [
           10550,
           4.5,
           2
          ],
          [
           24920,
           4.5,
           2
          ],
          [
           13912,
           4.5,
           2
          ],
          [
           15580,
           4.5,
           2
          ],
          [
           11023,
           4.5,
           2
          ],
          [
           11000,
           4.75,
           1
          ],
          [
           24085,
           4.75,
           2.5
          ],
          [
           17811,
           4.75,
           2
          ],
          [
           16747,
           4.75,
           2
          ],
          [
           13180,
           4.75,
           2
          ],
          [
           47480,
           4.75,
           1
          ],
          [
           35000,
           4.75,
           1
          ],
          [
           17004,
           4.75,
           2
          ],
          [
           14649,
           5,
           2
          ],
          [
           21630,
           5,
           1
          ],
          [
           23985,
           5,
           2
          ],
          [
           31675,
           5,
           1
          ],
          [
           18200,
           5,
           2.5
          ],
          [
           16909,
           5,
           1
          ],
          [
           13906,
           5,
           2
          ],
          [
           14986,
           5.25,
           2
          ],
          [
           18707,
           5.25,
           2
          ],
          [
           27490,
           5.25,
           2
          ],
          [
           42840,
           5.5,
           1
          ],
          [
           16573,
           5.5,
           2
          ],
          [
           18898,
           5.5,
           2
          ],
          [
           217374,
           5.5,
           1
          ],
          [
           13782,
           5.5,
           2
          ],
          [
           230868,
           5.75,
           2
          ],
          [
           223462,
           5.75,
           2
          ],
          [
           35069,
           5.75,
           2
          ],
          [
           21540,
           6,
           2
          ],
          [
           279968,
           6,
           2
          ],
          [
           40806,
           6,
           2
          ],
          [
           64033,
           6.25,
           2
          ],
          [
           130017,
           6.5,
           2
          ],
          [
           41664,
           6.75,
           2
          ],
          [
           31374,
           7.75,
           2
          ],
          [
           27600,
           8,
           2.5
          ],
          [
           307752,
           8,
           3
          ]
         ],
         "hovertemplate": "<b>%{hovertext}</b><br><br>type=house<br>lat=%{lat}<br>long=%{lon}<br>sqft_lot=%{customdata[0]}<br>bathrooms=%{customdata[1]}<br>floors=%{customdata[2]}<extra></extra>",
         "hovertext": [
          0,
          1,
          2,
          3,
          4,
          5,
          6,
          7,
          8,
          9,
          10,
          11,
          12,
          13,
          14,
          15,
          16,
          17,
          18,
          19,
          20,
          21,
          22,
          23,
          24,
          25,
          26,
          27,
          28,
          29,
          30,
          31,
          32,
          33,
          34,
          35,
          36,
          37,
          38,
          39,
          40,
          41,
          42,
          43,
          44,
          45,
          46,
          47,
          48,
          49,
          50,
          51,
          52,
          53,
          54,
          55,
          56,
          57,
          58,
          59,
          60,
          61,
          62,
          63,
          64,
          65,
          66,
          67,
          68,
          69,
          70,
          71,
          72,
          73,
          74,
          75,
          76,
          77,
          78,
          79,
          80,
          81
         ],
         "lat": [
          47.6406,
          47.6071,
          47.6322,
          47.7506,
          47.6973,
          47.7064,
          47.5703,
          47.5871,
          47.5566,
          47.5382,
          47.5262,
          47.5323,
          47.5513,
          47.5669,
          47.5552,
          47.7245,
          47.3375,
          47.559,
          47.5602,
          47.5455,
          47.6547,
          47.5774,
          47.6702,
          47.263,
          47.5758,
          47.6347,
          47.3979,
          47.5632,
          47.5522,
          47.56,
          47.6561,
          47.5622,
          47.6735,
          47.4695,
          47.7009,
          47.5846,
          47.7295,
          47.4677,
          47.407,
          47.5455,
          47.5544,
          47.5457,
          47.5806,
          47.7183,
          47.5332,
          47.6232,
          47.5722,
          47.768,
          47.6263,
          47.5405,
          47.5512,
          47.6312,
          47.5317,
          47.7597,
          47.5802,
          47.5829,
          47.5524,
          47.6232,
          47.3466,
          47.6427,
          47.5515,
          47.3814,
          47.6304,
          47.5858,
          47.6094,
          47.6229,
          47.6151,
          47.5431,
          47.4302,
          47.5399,
          47.7615,
          47.7097,
          47.6289,
          47.5692,
          47.4624,
          47.5451,
          47.7295,
          47.5371,
          47.4643,
          47.6305,
          47.6298,
          47.6675
         ],
         "legendgroup": "house",
         "lon": [
          -122.101,
          -122.212,
          -122.203,
          -122.012,
          -122.205,
          -121.981,
          -122.28,
          -122.192,
          -122.026,
          -122.114,
          -122.143,
          -122.237,
          -122.109,
          -121.956,
          -122.231,
          -122.095,
          -122.337,
          -122.045,
          -122.227,
          -122.211,
          -122.202,
          -122.222,
          -122.26,
          -122.216,
          -122.242,
          -122.013,
          -122.416,
          -122.215,
          -122.103,
          -122.161,
          -122.005,
          -122.003,
          -122.058,
          -121.775,
          -122.059,
          -122.223,
          -122.057,
          -122.01,
          -122.216,
          -122.214,
          -122.147,
          -121.991,
          -122.244,
          -122.258,
          -122.265,
          -122.207,
          -122.236,
          -122.251,
          -122.284,
          -121.868,
          -122.11,
          -122.291,
          -122.233,
          -122.079,
          -122.212,
          -122.247,
          -122.112,
          -122.22,
          -122.323,
          -122.408,
          -122.113,
          -122.164,
          -122.236,
          -122.247,
          -122.023,
          -122.22,
          -122.224,
          -122.112,
          -122.095,
          -122.118,
          -122.084,
          -122.013,
          -122.233,
          -122.189,
          -121.779,
          -122.114,
          -122.372,
          -121.982,
          -122.368,
          -122.24,
          -122.323,
          -121.986
         ],
         "marker": {
          "color": "#636efa"
         },
         "mode": "markers",
         "name": "house",
         "showlegend": true,
         "subplot": "mapbox",
         "type": "scattermapbox"
        },
        {
         "customdata": [
          [
           null,
           null,
           null
          ],
          [
           null,
           null,
           null
          ],
          [
           null,
           null,
           null
          ],
          [
           null,
           null,
           null
          ]
         ],
         "hovertemplate": "<b>%{hovertext}</b><br><br>type=golf<br>lat=%{lat}<br>long=%{lon}<br>sqft_lot=%{customdata[0]}<br>bathrooms=%{customdata[1]}<br>floors=%{customdata[2]}<extra></extra>",
         "hovertext": [
          82,
          83,
          84,
          85
         ],
         "lat": [
          47.7377,
          47.5594,
          47.4797,
          47.67085
         ],
         "legendgroup": "golf",
         "lon": [
          -122.3609,
          -122.3698,
          -122.2593,
          -122.34113
         ],
         "marker": {
          "color": "#EF553B"
         },
         "mode": "markers",
         "name": "golf",
         "showlegend": true,
         "subplot": "mapbox",
         "type": "scattermapbox"
        }
       ],
       "layout": {
        "height": 300,
        "legend": {
         "title": {
          "text": "type"
         },
         "tracegroupgap": 0
        },
        "mapbox": {
         "center": {
          "lat": 47.58311220930232,
          "lon": -122.1644084883721
         },
         "domain": {
          "x": [
           0,
           1
          ],
          "y": [
           0,
           1
          ]
         },
         "style": "open-street-map",
         "zoom": 8
        },
        "margin": {
         "b": 0,
         "l": 0,
         "r": 0,
         "t": 0
        },
        "template": {
         "data": {
          "bar": [
           {
            "error_x": {
             "color": "#2a3f5f"
            },
            "error_y": {
             "color": "#2a3f5f"
            },
            "marker": {
             "line": {
              "color": "#E5ECF6",
              "width": 0.5
             },
             "pattern": {
              "fillmode": "overlay",
              "size": 10,
              "solidity": 0.2
             }
            },
            "type": "bar"
           }
          ],
          "barpolar": [
           {
            "marker": {
             "line": {
              "color": "#E5ECF6",
              "width": 0.5
             },
             "pattern": {
              "fillmode": "overlay",
              "size": 10,
              "solidity": 0.2
             }
            },
            "type": "barpolar"
           }
          ],
          "carpet": [
           {
            "aaxis": {
             "endlinecolor": "#2a3f5f",
             "gridcolor": "white",
             "linecolor": "white",
             "minorgridcolor": "white",
             "startlinecolor": "#2a3f5f"
            },
            "baxis": {
             "endlinecolor": "#2a3f5f",
             "gridcolor": "white",
             "linecolor": "white",
             "minorgridcolor": "white",
             "startlinecolor": "#2a3f5f"
            },
            "type": "carpet"
           }
          ],
          "choropleth": [
           {
            "colorbar": {
             "outlinewidth": 0,
             "ticks": ""
            },
            "type": "choropleth"
           }
          ],
          "contour": [
           {
            "colorbar": {
             "outlinewidth": 0,
             "ticks": ""
            },
            "colorscale": [
             [
              0,
              "#0d0887"
             ],
             [
              0.1111111111111111,
              "#46039f"
             ],
             [
              0.2222222222222222,
              "#7201a8"
             ],
             [
              0.3333333333333333,
              "#9c179e"
             ],
             [
              0.4444444444444444,
              "#bd3786"
             ],
             [
              0.5555555555555556,
              "#d8576b"
             ],
             [
              0.6666666666666666,
              "#ed7953"
             ],
             [
              0.7777777777777778,
              "#fb9f3a"
             ],
             [
              0.8888888888888888,
              "#fdca26"
             ],
             [
              1,
              "#f0f921"
             ]
            ],
            "type": "contour"
           }
          ],
          "contourcarpet": [
           {
            "colorbar": {
             "outlinewidth": 0,
             "ticks": ""
            },
            "type": "contourcarpet"
           }
          ],
          "heatmap": [
           {
            "colorbar": {
             "outlinewidth": 0,
             "ticks": ""
            },
            "colorscale": [
             [
              0,
              "#0d0887"
             ],
             [
              0.1111111111111111,
              "#46039f"
             ],
             [
              0.2222222222222222,
              "#7201a8"
             ],
             [
              0.3333333333333333,
              "#9c179e"
             ],
             [
              0.4444444444444444,
              "#bd3786"
             ],
             [
              0.5555555555555556,
              "#d8576b"
             ],
             [
              0.6666666666666666,
              "#ed7953"
             ],
             [
              0.7777777777777778,
              "#fb9f3a"
             ],
             [
              0.8888888888888888,
              "#fdca26"
             ],
             [
              1,
              "#f0f921"
             ]
            ],
            "type": "heatmap"
           }
          ],
          "heatmapgl": [
           {
            "colorbar": {
             "outlinewidth": 0,
             "ticks": ""
            },
            "colorscale": [
             [
              0,
              "#0d0887"
             ],
             [
              0.1111111111111111,
              "#46039f"
             ],
             [
              0.2222222222222222,
              "#7201a8"
             ],
             [
              0.3333333333333333,
              "#9c179e"
             ],
             [
              0.4444444444444444,
              "#bd3786"
             ],
             [
              0.5555555555555556,
              "#d8576b"
             ],
             [
              0.6666666666666666,
              "#ed7953"
             ],
             [
              0.7777777777777778,
              "#fb9f3a"
             ],
             [
              0.8888888888888888,
              "#fdca26"
             ],
             [
              1,
              "#f0f921"
             ]
            ],
            "type": "heatmapgl"
           }
          ],
          "histogram": [
           {
            "marker": {
             "pattern": {
              "fillmode": "overlay",
              "size": 10,
              "solidity": 0.2
             }
            },
            "type": "histogram"
           }
          ],
          "histogram2d": [
           {
            "colorbar": {
             "outlinewidth": 0,
             "ticks": ""
            },
            "colorscale": [
             [
              0,
              "#0d0887"
             ],
             [
              0.1111111111111111,
              "#46039f"
             ],
             [
              0.2222222222222222,
              "#7201a8"
             ],
             [
              0.3333333333333333,
              "#9c179e"
             ],
             [
              0.4444444444444444,
              "#bd3786"
             ],
             [
              0.5555555555555556,
              "#d8576b"
             ],
             [
              0.6666666666666666,
              "#ed7953"
             ],
             [
              0.7777777777777778,
              "#fb9f3a"
             ],
             [
              0.8888888888888888,
              "#fdca26"
             ],
             [
              1,
              "#f0f921"
             ]
            ],
            "type": "histogram2d"
           }
          ],
          "histogram2dcontour": [
           {
            "colorbar": {
             "outlinewidth": 0,
             "ticks": ""
            },
            "colorscale": [
             [
              0,
              "#0d0887"
             ],
             [
              0.1111111111111111,
              "#46039f"
             ],
             [
              0.2222222222222222,
              "#7201a8"
             ],
             [
              0.3333333333333333,
              "#9c179e"
             ],
             [
              0.4444444444444444,
              "#bd3786"
             ],
             [
              0.5555555555555556,
              "#d8576b"
             ],
             [
              0.6666666666666666,
              "#ed7953"
             ],
             [
              0.7777777777777778,
              "#fb9f3a"
             ],
             [
              0.8888888888888888,
              "#fdca26"
             ],
             [
              1,
              "#f0f921"
             ]
            ],
            "type": "histogram2dcontour"
           }
          ],
          "mesh3d": [
           {
            "colorbar": {
             "outlinewidth": 0,
             "ticks": ""
            },
            "type": "mesh3d"
           }
          ],
          "parcoords": [
           {
            "line": {
             "colorbar": {
              "outlinewidth": 0,
              "ticks": ""
             }
            },
            "type": "parcoords"
           }
          ],
          "pie": [
           {
            "automargin": true,
            "type": "pie"
           }
          ],
          "scatter": [
           {
            "fillpattern": {
             "fillmode": "overlay",
             "size": 10,
             "solidity": 0.2
            },
            "type": "scatter"
           }
          ],
          "scatter3d": [
           {
            "line": {
             "colorbar": {
              "outlinewidth": 0,
              "ticks": ""
             }
            },
            "marker": {
             "colorbar": {
              "outlinewidth": 0,
              "ticks": ""
             }
            },
            "type": "scatter3d"
           }
          ],
          "scattercarpet": [
           {
            "marker": {
             "colorbar": {
              "outlinewidth": 0,
              "ticks": ""
             }
            },
            "type": "scattercarpet"
           }
          ],
          "scattergeo": [
           {
            "marker": {
             "colorbar": {
              "outlinewidth": 0,
              "ticks": ""
             }
            },
            "type": "scattergeo"
           }
          ],
          "scattergl": [
           {
            "marker": {
             "colorbar": {
              "outlinewidth": 0,
              "ticks": ""
             }
            },
            "type": "scattergl"
           }
          ],
          "scattermapbox": [
           {
            "marker": {
             "colorbar": {
              "outlinewidth": 0,
              "ticks": ""
             }
            },
            "type": "scattermapbox"
           }
          ],
          "scatterpolar": [
           {
            "marker": {
             "colorbar": {
              "outlinewidth": 0,
              "ticks": ""
             }
            },
            "type": "scatterpolar"
           }
          ],
          "scatterpolargl": [
           {
            "marker": {
             "colorbar": {
              "outlinewidth": 0,
              "ticks": ""
             }
            },
            "type": "scatterpolargl"
           }
          ],
          "scatterternary": [
           {
            "marker": {
             "colorbar": {
              "outlinewidth": 0,
              "ticks": ""
             }
            },
            "type": "scatterternary"
           }
          ],
          "surface": [
           {
            "colorbar": {
             "outlinewidth": 0,
             "ticks": ""
            },
            "colorscale": [
             [
              0,
              "#0d0887"
             ],
             [
              0.1111111111111111,
              "#46039f"
             ],
             [
              0.2222222222222222,
              "#7201a8"
             ],
             [
              0.3333333333333333,
              "#9c179e"
             ],
             [
              0.4444444444444444,
              "#bd3786"
             ],
             [
              0.5555555555555556,
              "#d8576b"
             ],
             [
              0.6666666666666666,
              "#ed7953"
             ],
             [
              0.7777777777777778,
              "#fb9f3a"
             ],
             [
              0.8888888888888888,
              "#fdca26"
             ],
             [
              1,
              "#f0f921"
             ]
            ],
            "type": "surface"
           }
          ],
          "table": [
           {
            "cells": {
             "fill": {
              "color": "#EBF0F8"
             },
             "line": {
              "color": "white"
             }
            },
            "header": {
             "fill": {
              "color": "#C8D4E3"
             },
             "line": {
              "color": "white"
             }
            },
            "type": "table"
           }
          ]
         },
         "layout": {
          "annotationdefaults": {
           "arrowcolor": "#2a3f5f",
           "arrowhead": 0,
           "arrowwidth": 1
          },
          "autotypenumbers": "strict",
          "coloraxis": {
           "colorbar": {
            "outlinewidth": 0,
            "ticks": ""
           }
          },
          "colorscale": {
           "diverging": [
            [
             0,
             "#8e0152"
            ],
            [
             0.1,
             "#c51b7d"
            ],
            [
             0.2,
             "#de77ae"
            ],
            [
             0.3,
             "#f1b6da"
            ],
            [
             0.4,
             "#fde0ef"
            ],
            [
             0.5,
             "#f7f7f7"
            ],
            [
             0.6,
             "#e6f5d0"
            ],
            [
             0.7,
             "#b8e186"
            ],
            [
             0.8,
             "#7fbc41"
            ],
            [
             0.9,
             "#4d9221"
            ],
            [
             1,
             "#276419"
            ]
           ],
           "sequential": [
            [
             0,
             "#0d0887"
            ],
            [
             0.1111111111111111,
             "#46039f"
            ],
            [
             0.2222222222222222,
             "#7201a8"
            ],
            [
             0.3333333333333333,
             "#9c179e"
            ],
            [
             0.4444444444444444,
             "#bd3786"
            ],
            [
             0.5555555555555556,
             "#d8576b"
            ],
            [
             0.6666666666666666,
             "#ed7953"
            ],
            [
             0.7777777777777778,
             "#fb9f3a"
            ],
            [
             0.8888888888888888,
             "#fdca26"
            ],
            [
             1,
             "#f0f921"
            ]
           ],
           "sequentialminus": [
            [
             0,
             "#0d0887"
            ],
            [
             0.1111111111111111,
             "#46039f"
            ],
            [
             0.2222222222222222,
             "#7201a8"
            ],
            [
             0.3333333333333333,
             "#9c179e"
            ],
            [
             0.4444444444444444,
             "#bd3786"
            ],
            [
             0.5555555555555556,
             "#d8576b"
            ],
            [
             0.6666666666666666,
             "#ed7953"
            ],
            [
             0.7777777777777778,
             "#fb9f3a"
            ],
            [
             0.8888888888888888,
             "#fdca26"
            ],
            [
             1,
             "#f0f921"
            ]
           ]
          },
          "colorway": [
           "#636efa",
           "#EF553B",
           "#00cc96",
           "#ab63fa",
           "#FFA15A",
           "#19d3f3",
           "#FF6692",
           "#B6E880",
           "#FF97FF",
           "#FECB52"
          ],
          "font": {
           "color": "#2a3f5f"
          },
          "geo": {
           "bgcolor": "white",
           "lakecolor": "white",
           "landcolor": "#E5ECF6",
           "showlakes": true,
           "showland": true,
           "subunitcolor": "white"
          },
          "hoverlabel": {
           "align": "left"
          },
          "hovermode": "closest",
          "mapbox": {
           "style": "light"
          },
          "paper_bgcolor": "white",
          "plot_bgcolor": "#E5ECF6",
          "polar": {
           "angularaxis": {
            "gridcolor": "white",
            "linecolor": "white",
            "ticks": ""
           },
           "bgcolor": "#E5ECF6",
           "radialaxis": {
            "gridcolor": "white",
            "linecolor": "white",
            "ticks": ""
           }
          },
          "scene": {
           "xaxis": {
            "backgroundcolor": "#E5ECF6",
            "gridcolor": "white",
            "gridwidth": 2,
            "linecolor": "white",
            "showbackground": true,
            "ticks": "",
            "zerolinecolor": "white"
           },
           "yaxis": {
            "backgroundcolor": "#E5ECF6",
            "gridcolor": "white",
            "gridwidth": 2,
            "linecolor": "white",
            "showbackground": true,
            "ticks": "",
            "zerolinecolor": "white"
           },
           "zaxis": {
            "backgroundcolor": "#E5ECF6",
            "gridcolor": "white",
            "gridwidth": 2,
            "linecolor": "white",
            "showbackground": true,
            "ticks": "",
            "zerolinecolor": "white"
           }
          },
          "shapedefaults": {
           "line": {
            "color": "#2a3f5f"
           }
          },
          "ternary": {
           "aaxis": {
            "gridcolor": "white",
            "linecolor": "white",
            "ticks": ""
           },
           "baxis": {
            "gridcolor": "white",
            "linecolor": "white",
            "ticks": ""
           },
           "bgcolor": "#E5ECF6",
           "caxis": {
            "gridcolor": "white",
            "linecolor": "white",
            "ticks": ""
           }
          },
          "title": {
           "x": 0.05
          },
          "xaxis": {
           "automargin": true,
           "gridcolor": "white",
           "linecolor": "white",
           "ticks": "",
           "title": {
            "standoff": 15
           },
           "zerolinecolor": "white",
           "zerolinewidth": 2
          },
          "yaxis": {
           "automargin": true,
           "gridcolor": "white",
           "linecolor": "white",
           "ticks": "",
           "title": {
            "standoff": 15
           },
           "zerolinecolor": "white",
           "zerolinewidth": 2
          }
         }
        }
       }
      }
     },
     "metadata": {},
     "output_type": "display_data"
    }
   ],
   "source": [
    "fig = px.scatter_mapbox(df_pool_tennis_golf, \n",
    "                        lat=\"lat\", \n",
    "                        lon=\"long\", \n",
    "                        hover_name=\"index\", \n",
    "                        hover_data=[\"sqft_lot\", \"bathrooms\",\"floors\"],\n",
    "                        color=\"type\",\n",
    "                       # color_discrete_sequence=[\"fuchsia\"], \n",
    "                        zoom=8, height=300)\n",
    "fig.update_layout(mapbox_style=\"open-street-map\")\n",
    "fig.update_layout(margin={\"r\":0,\"t\":0,\"l\":0,\"b\":0})\n",
    "fig.show()"
   ]
  },
  {
   "cell_type": "markdown",
   "id": "bd20884e-a232-4f41-ab91-10b610c10466",
   "metadata": {},
   "source": [
    "Recommended houses now: 38,61, 80, 51, 59, 47 (Close to golf yard, but not at the waterfront)"
   ]
  },
  {
   "cell_type": "code",
   "execution_count": 86,
   "id": "1575d676-2e97-4bf5-b0ff-70acae976fb7",
   "metadata": {},
   "outputs": [
    {
     "data": {
      "text/plain": [
       "38   2.00\n",
       "47   1.00\n",
       "51   2.00\n",
       "59   2.50\n",
       "61   2.00\n",
       "80   2.50\n",
       "Name: floors, dtype: float64"
      ]
     },
     "execution_count": 86,
     "metadata": {},
     "output_type": "execute_result"
    }
   ],
   "source": [
    "# the final 6 houses with their properties\n",
    "df_pool_tennis_golf.query('index == 38 or index==61 or index==80 or index==51 or index==59 or index==47')['floors']"
   ]
  },
  {
   "cell_type": "markdown",
   "id": "06477e30-c57d-402a-9e12-4b34224d17c9",
   "metadata": {},
   "source": [
    "As Jacob Philipps is a customer with an unlimited budget and has high expectations, the recommended houses should not be too cheap. \n",
    "\n",
    "All should not be at the waterfront, have the space for a luxury pool in the basement and a tennis court in the garden. Furthermore they all have more than 4 bathrooms an please his wishes to be historic. \n",
    "\n",
    "As all of them have 2.5 floors max, it is necessary to have several floors, but as shown earlier, the size of the garden is not significantly minimized by the size of the house.\n",
    "\n",
    "**So final recommendations are houses with the index 51, 59 and 80.**"
   ]
  }
 ],
 "metadata": {
  "kernelspec": {
   "display_name": "Python 3 (ipykernel)",
   "language": "python",
   "name": "python3"
  },
  "language_info": {
   "codemirror_mode": {
    "name": "ipython",
    "version": 3
   },
   "file_extension": ".py",
   "mimetype": "text/x-python",
   "name": "python",
   "nbconvert_exporter": "python",
   "pygments_lexer": "ipython3",
   "version": "3.11.3"
  }
 },
 "nbformat": 4,
 "nbformat_minor": 5
}
